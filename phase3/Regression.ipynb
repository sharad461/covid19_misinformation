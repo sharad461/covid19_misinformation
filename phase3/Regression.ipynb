{
 "cells": [
  {
   "cell_type": "markdown",
   "id": "aa90c34f",
   "metadata": {},
   "source": [
    "### Installing packages"
   ]
  },
  {
   "cell_type": "code",
   "execution_count": null,
   "id": "4b5f6384",
   "metadata": {},
   "outputs": [],
   "source": [
    "!pip install statsmodels tqdm"
   ]
  },
  {
   "cell_type": "markdown",
   "id": "061af60d",
   "metadata": {},
   "source": [
    "### Importing packages"
   ]
  },
  {
   "cell_type": "code",
   "execution_count": 1,
   "id": "942aa91d",
   "metadata": {},
   "outputs": [],
   "source": [
    "import os, pickle\n",
    "import pandas as pd\n",
    "import numpy as np\n",
    "import statsmodels.formula.api as smf\n",
    "import statsmodels.api as sm\n",
    "from datetime import date\n",
    "from tqdm import tqdm"
   ]
  },
  {
   "cell_type": "markdown",
   "id": "097e0208",
   "metadata": {},
   "source": [
    "### Global variables"
   ]
  },
  {
   "cell_type": "code",
   "execution_count": 2,
   "id": "53b298fb",
   "metadata": {},
   "outputs": [],
   "source": [
    "dataset_folder = \"new_full_dataset\" # folder with the full dataset\n",
    "parts = [] # list to store contributions from each file, for merging into one df later"
   ]
  },
  {
   "cell_type": "code",
   "execution_count": 6,
   "id": "d0c9de1b",
   "metadata": {},
   "outputs": [],
   "source": [
    "log_dataset_cols = [\"log_retweets_per_follower\", \"topic_log_probability\", \"Anger_log\", \"Disgust_log\", \"Fear_log\", \"Joy_log\",\n",
    "                    \"Sadness_log\", \"Surprise_log\", \"Trust_log\", \"Anticipation_log\", \"user_verified\", \"suspended_tweet\", \"retweet_count\", \"user_followers_count\"]\n",
    "\n",
    "non_log_dataset_cols = [\"retweets_per_follower\", \"topic_probability\", \"Anger\", \"Disgust\", \"Fear\", \"Joy\", \n",
    "                        \"Sadness\", \"Surprise\", \"Trust\", \"Anticipation\", \"user_verified\", \"suspended_tweet\", \"retweet_count\", \"user_followers_count\"]\n",
    "\n",
    "logit_cols = [\"Anger_log\", \"Disgust_log\", \"Fear_log\", \"Joy_log\",\n",
    "            \"Sadness_log\", \"Surprise_log\", \"Trust_log\", \"Anticipation_log\", \"user_verified\", \"suspended_tweet\", \"retweet_count\", \"user_followers_count\"]\n",
    "\n",
    "common_cols = [\"user_created_at\", \"media\", \"topic_id\"]\n",
    "\n",
    "topic_bool_columns = [\"topic_is_not_disinformation\", \"topic_is_trolling\", \"topic_is_out_of_scope\", \"topic_is_debatable\", \n",
    "                 \"topic_is_conspiracy_theory\"]\n",
    "\n",
    "new_cols = topic_bool_columns + [\"media_bool\", \"account_age\"]\n",
    "# Columns that need to be processed in runtime and appended to the dataset"
   ]
  },
  {
   "cell_type": "code",
   "execution_count": 4,
   "id": "118b93d3",
   "metadata": {},
   "outputs": [],
   "source": [
    "def account_age(x):\n",
    "    y = x.date()\n",
    "    ref_date = date(2020, 12, 1)\n",
    "\n",
    "    return (ref_date-y).days / 365"
   ]
  },
  {
   "cell_type": "code",
   "execution_count": 5,
   "id": "2e9e70d0",
   "metadata": {},
   "outputs": [],
   "source": [
    "def create_regression_dataset(save_as, typ=\"log\"):\n",
    "    parts = []\n",
    "    \n",
    "    if typ == \"log\":\n",
    "        cols_list = log_dataset_cols\n",
    "        output_cols = cols_list + new_cols + [\"Emotion_prob_log\"]\n",
    "    elif typ == \"non_log\":\n",
    "        cols_list = non_log_dataset_cols\n",
    "        output_cols = cols_list + new_cols + [\"Emotion_prob\"]\n",
    "    elif typ == \"logit\":\n",
    "        cols_list = logit_cols\n",
    "#         logit_cols.remove(\"retweet_count\")\n",
    "#         output_cols = logit_cols + [\"has_been_retweeted\", \"media_bool\", \"account_age\"]\n",
    "        output_cols = logit_cols + new_cols + [\"retweet_count_gte_one\"]\n",
    "        \n",
    "    for file in tqdm(os.listdir(dataset_folder)):\n",
    "        df = pd.read_csv(os.path.join(dataset_folder, file))\n",
    "        \n",
    "#         # Correction course:\n",
    "#         df[\"retweet_count\"] = df[\"retweet_count\"].combine_first(df[\"retweet_count_before_susp\"])\n",
    "        \n",
    "#         df[\"retweets_per_follower\"] = df.retweet_count.divide(\n",
    "#             df.user_followers_count\n",
    "#         )\n",
    "\n",
    "#         df.loc[\n",
    "#             ~np.isfinite(df[\"retweets_per_follower\"]), \"retweets_per_follower\"\n",
    "#         ] = np.nan\n",
    "\n",
    "#         df[\"log_retweets_per_follower\"] = np.log10(df[\"retweets_per_follower\"])\n",
    "\n",
    "#         df.loc[\n",
    "#             ~np.isfinite(df[\"log_retweets_per_follower\"]), \"log_retweets_per_follower\"\n",
    "#         ] = np.nan\n",
    "        \n",
    "#         df.to_csv(f\"new_full_dataset/{file}\", index=False)\n",
    "        \n",
    "        # If no topic_id assigned (i.e. tweet was used to train LDA), drop it\n",
    "        df.dropna(subset=[\"topic_id\"], inplace=True)\n",
    "        \n",
    "        if typ == \"log\":\n",
    "            # If the log_retweets_per_follower (derived from retweets_per_follower) is Nan, drop the tweet\n",
    "            df.dropna(subset=[\"log_retweets_per_follower\"], inplace=True)\n",
    "        elif typ == \"non_log\":\n",
    "            df.dropna(subset=[\"retweets_per_follower\"], inplace=True)\n",
    "            \n",
    "#         elif typ == \"logit\":\n",
    "#             df.dropna(subset=['topic_id'], inplace=True)\n",
    "\n",
    "        part = df[common_cols + cols_list]\n",
    "\n",
    "        parts.append(part)\n",
    "\n",
    "    print(f'{df[\"retweet_count\"].isnull().sum()} tweets had no retweet count')\n",
    "    \n",
    "    df = pd.concat(parts, ignore_index=True)\n",
    "\n",
    "    df[\"media_bool\"] = df[\"media\"].notnull()\n",
    "    df[\"account_age\"] = pd.to_datetime(df[\"user_created_at\"], format='%a %b %d %H:%M:%S %z %Y').apply(account_age)\n",
    "\n",
    "    for col in topic_bool_columns:\n",
    "        df[col] = False\n",
    "    \n",
    "    if typ == \"log\":\n",
    "        df[\"Emotion_prob_log\"] = df[[\"Anger_log\", \"Disgust_log\", \"Fear_log\", \"Joy_log\", \"Sadness_log\", \"Surprise_log\", \"Trust_log\", \"Anticipation_log\"]].max(axis=1)\n",
    "    elif typ == \"non_log\":\n",
    "        df[\"Emotion_prob\"] = df[[\"Anger\", \"Disgust\", \"Fear\", \"Joy\", \"Sadness\", \"Surprise\", \"Trust\", \"Anticipation\"]].max(axis=1)\n",
    "    \n",
    "    if typ == \"logit\":\n",
    "        df[\"retweet_count_gte_one\"] = 0\n",
    "        df[\"retweet_count_gte_one\"][df[\"retweet_count\"] > 0] = 1\n",
    "        \n",
    "    topic_id_topic_cat_dict = pd.read_pickle(\"topic_id_topic_cat_dict\")\n",
    "\n",
    "    for col in topic_bool_columns:\n",
    "        df[\"topic_type\"] = df[\"topic_id\"].map(topic_id_topic_cat_dict)\n",
    "        df[col][df[\"topic_type\"] == col] = True\n",
    "\n",
    "    df[output_cols].to_csv(f\"{save_as}.csv\", index=False)"
   ]
  },
  {
   "cell_type": "markdown",
   "id": "bc535cb8",
   "metadata": {},
   "source": [
    "### Extract the columns necessary for regression"
   ]
  },
  {
   "cell_type": "code",
   "execution_count": 6,
   "id": "6330ee79",
   "metadata": {},
   "outputs": [
    {
     "name": "stderr",
     "output_type": "stream",
     "text": [
      "  3%|█▍                                          | 3/90 [00:09<04:25,  3.05s/it]/var/folders/07/8lwf77114s1_ksvsyvnly2qc0000gn/T/ipykernel_2575/2724779919.py:17: DtypeWarning: Columns (7) have mixed types. Specify dtype option on import or set low_memory=False.\n",
      "  df = pd.read_csv(os.path.join(dataset_folder, file))\n",
      "  6%|██▍                                         | 5/90 [00:15<04:20,  3.06s/it]/var/folders/07/8lwf77114s1_ksvsyvnly2qc0000gn/T/ipykernel_2575/2724779919.py:17: DtypeWarning: Columns (7) have mixed types. Specify dtype option on import or set low_memory=False.\n",
      "  df = pd.read_csv(os.path.join(dataset_folder, file))\n",
      " 13%|█████▋                                     | 12/90 [00:36<04:00,  3.08s/it]/var/folders/07/8lwf77114s1_ksvsyvnly2qc0000gn/T/ipykernel_2575/2724779919.py:17: DtypeWarning: Columns (7) have mixed types. Specify dtype option on import or set low_memory=False.\n",
      "  df = pd.read_csv(os.path.join(dataset_folder, file))\n",
      " 16%|██████▋                                    | 14/90 [00:42<03:52,  3.06s/it]/var/folders/07/8lwf77114s1_ksvsyvnly2qc0000gn/T/ipykernel_2575/2724779919.py:17: DtypeWarning: Columns (7) have mixed types. Specify dtype option on import or set low_memory=False.\n",
      "  df = pd.read_csv(os.path.join(dataset_folder, file))\n",
      " 44%|███████████████████                        | 40/90 [02:01<02:31,  3.04s/it]/var/folders/07/8lwf77114s1_ksvsyvnly2qc0000gn/T/ipykernel_2575/2724779919.py:17: DtypeWarning: Columns (7,15) have mixed types. Specify dtype option on import or set low_memory=False.\n",
      "  df = pd.read_csv(os.path.join(dataset_folder, file))\n",
      " 49%|█████████████████████                      | 44/90 [02:13<02:20,  3.05s/it]/var/folders/07/8lwf77114s1_ksvsyvnly2qc0000gn/T/ipykernel_2575/2724779919.py:17: DtypeWarning: Columns (7) have mixed types. Specify dtype option on import or set low_memory=False.\n",
      "  df = pd.read_csv(os.path.join(dataset_folder, file))\n",
      " 51%|█████████████████████▉                     | 46/90 [02:19<02:13,  3.04s/it]/var/folders/07/8lwf77114s1_ksvsyvnly2qc0000gn/T/ipykernel_2575/2724779919.py:17: DtypeWarning: Columns (7) have mixed types. Specify dtype option on import or set low_memory=False.\n",
      "  df = pd.read_csv(os.path.join(dataset_folder, file))\n",
      " 57%|████████████████████████▎                  | 51/90 [02:34<01:58,  3.04s/it]/var/folders/07/8lwf77114s1_ksvsyvnly2qc0000gn/T/ipykernel_2575/2724779919.py:17: DtypeWarning: Columns (7) have mixed types. Specify dtype option on import or set low_memory=False.\n",
      "  df = pd.read_csv(os.path.join(dataset_folder, file))\n",
      " 58%|████████████████████████▊                  | 52/90 [02:38<02:01,  3.20s/it]/var/folders/07/8lwf77114s1_ksvsyvnly2qc0000gn/T/ipykernel_2575/2724779919.py:17: DtypeWarning: Columns (7) have mixed types. Specify dtype option on import or set low_memory=False.\n",
      "  df = pd.read_csv(os.path.join(dataset_folder, file))\n",
      " 60%|█████████████████████████▊                 | 54/90 [02:44<01:55,  3.21s/it]/var/folders/07/8lwf77114s1_ksvsyvnly2qc0000gn/T/ipykernel_2575/2724779919.py:17: DtypeWarning: Columns (7) have mixed types. Specify dtype option on import or set low_memory=False.\n",
      "  df = pd.read_csv(os.path.join(dataset_folder, file))\n",
      " 63%|███████████████████████████▏               | 57/90 [02:54<01:49,  3.31s/it]/var/folders/07/8lwf77114s1_ksvsyvnly2qc0000gn/T/ipykernel_2575/2724779919.py:17: DtypeWarning: Columns (7) have mixed types. Specify dtype option on import or set low_memory=False.\n",
      "  df = pd.read_csv(os.path.join(dataset_folder, file))\n",
      " 83%|███████████████████████████████████▊       | 75/90 [03:53<00:48,  3.20s/it]/var/folders/07/8lwf77114s1_ksvsyvnly2qc0000gn/T/ipykernel_2575/2724779919.py:17: DtypeWarning: Columns (7) have mixed types. Specify dtype option on import or set low_memory=False.\n",
      "  df = pd.read_csv(os.path.join(dataset_folder, file))\n",
      " 87%|█████████████████████████████████████▎     | 78/90 [04:02<00:37,  3.13s/it]/var/folders/07/8lwf77114s1_ksvsyvnly2qc0000gn/T/ipykernel_2575/2724779919.py:17: DtypeWarning: Columns (7) have mixed types. Specify dtype option on import or set low_memory=False.\n",
      "  df = pd.read_csv(os.path.join(dataset_folder, file))\n",
      " 94%|████████████████████████████████████████▌  | 85/90 [04:23<00:15,  3.10s/it]/var/folders/07/8lwf77114s1_ksvsyvnly2qc0000gn/T/ipykernel_2575/2724779919.py:17: DtypeWarning: Columns (7) have mixed types. Specify dtype option on import or set low_memory=False.\n",
      "  df = pd.read_csv(os.path.join(dataset_folder, file))\n",
      " 98%|██████████████████████████████████████████ | 88/90 [04:33<00:06,  3.11s/it]/var/folders/07/8lwf77114s1_ksvsyvnly2qc0000gn/T/ipykernel_2575/2724779919.py:17: DtypeWarning: Columns (7) have mixed types. Specify dtype option on import or set low_memory=False.\n",
      "  df = pd.read_csv(os.path.join(dataset_folder, file))\n",
      " 99%|██████████████████████████████████████████▌| 89/90 [04:36<00:03,  3.11s/it]/var/folders/07/8lwf77114s1_ksvsyvnly2qc0000gn/T/ipykernel_2575/2724779919.py:17: DtypeWarning: Columns (7) have mixed types. Specify dtype option on import or set low_memory=False.\n",
      "  df = pd.read_csv(os.path.join(dataset_folder, file))\n",
      "100%|███████████████████████████████████████████| 90/90 [04:39<00:00,  3.11s/it]\n"
     ]
    },
    {
     "name": "stdout",
     "output_type": "stream",
     "text": [
      "0 tweets had no retweet count\n"
     ]
    },
    {
     "name": "stderr",
     "output_type": "stream",
     "text": [
      "/var/folders/07/8lwf77114s1_ksvsyvnly2qc0000gn/T/ipykernel_2575/2724779919.py:77: SettingWithCopyWarning: \n",
      "A value is trying to be set on a copy of a slice from a DataFrame\n",
      "\n",
      "See the caveats in the documentation: https://pandas.pydata.org/pandas-docs/stable/user_guide/indexing.html#returning-a-view-versus-a-copy\n",
      "  df[col][df[\"topic_type\"] == col] = True\n",
      "/var/folders/07/8lwf77114s1_ksvsyvnly2qc0000gn/T/ipykernel_2575/2724779919.py:77: SettingWithCopyWarning: \n",
      "A value is trying to be set on a copy of a slice from a DataFrame\n",
      "\n",
      "See the caveats in the documentation: https://pandas.pydata.org/pandas-docs/stable/user_guide/indexing.html#returning-a-view-versus-a-copy\n",
      "  df[col][df[\"topic_type\"] == col] = True\n",
      "/var/folders/07/8lwf77114s1_ksvsyvnly2qc0000gn/T/ipykernel_2575/2724779919.py:77: SettingWithCopyWarning: \n",
      "A value is trying to be set on a copy of a slice from a DataFrame\n",
      "\n",
      "See the caveats in the documentation: https://pandas.pydata.org/pandas-docs/stable/user_guide/indexing.html#returning-a-view-versus-a-copy\n",
      "  df[col][df[\"topic_type\"] == col] = True\n",
      "/var/folders/07/8lwf77114s1_ksvsyvnly2qc0000gn/T/ipykernel_2575/2724779919.py:77: SettingWithCopyWarning: \n",
      "A value is trying to be set on a copy of a slice from a DataFrame\n",
      "\n",
      "See the caveats in the documentation: https://pandas.pydata.org/pandas-docs/stable/user_guide/indexing.html#returning-a-view-versus-a-copy\n",
      "  df[col][df[\"topic_type\"] == col] = True\n",
      "/var/folders/07/8lwf77114s1_ksvsyvnly2qc0000gn/T/ipykernel_2575/2724779919.py:77: SettingWithCopyWarning: \n",
      "A value is trying to be set on a copy of a slice from a DataFrame\n",
      "\n",
      "See the caveats in the documentation: https://pandas.pydata.org/pandas-docs/stable/user_guide/indexing.html#returning-a-view-versus-a-copy\n",
      "  df[col][df[\"topic_type\"] == col] = True\n"
     ]
    }
   ],
   "source": [
    "create_regression_dataset(\"log_dataset\", typ=\"log\") # Extract columns for the log linear regression"
   ]
  },
  {
   "cell_type": "code",
   "execution_count": 7,
   "id": "512387e6",
   "metadata": {
    "scrolled": true
   },
   "outputs": [
    {
     "name": "stderr",
     "output_type": "stream",
     "text": [
      "  3%|█▍                                          | 3/90 [00:10<04:54,  3.39s/it]/var/folders/07/8lwf77114s1_ksvsyvnly2qc0000gn/T/ipykernel_2575/2724779919.py:17: DtypeWarning: Columns (7) have mixed types. Specify dtype option on import or set low_memory=False.\n",
      "  df = pd.read_csv(os.path.join(dataset_folder, file))\n",
      "  6%|██▍                                         | 5/90 [00:16<04:48,  3.39s/it]/var/folders/07/8lwf77114s1_ksvsyvnly2qc0000gn/T/ipykernel_2575/2724779919.py:17: DtypeWarning: Columns (7) have mixed types. Specify dtype option on import or set low_memory=False.\n",
      "  df = pd.read_csv(os.path.join(dataset_folder, file))\n",
      " 13%|█████▋                                     | 12/90 [00:41<04:31,  3.48s/it]/var/folders/07/8lwf77114s1_ksvsyvnly2qc0000gn/T/ipykernel_2575/2724779919.py:17: DtypeWarning: Columns (7) have mixed types. Specify dtype option on import or set low_memory=False.\n",
      "  df = pd.read_csv(os.path.join(dataset_folder, file))\n",
      " 16%|██████▋                                    | 14/90 [00:48<04:14,  3.35s/it]/var/folders/07/8lwf77114s1_ksvsyvnly2qc0000gn/T/ipykernel_2575/2724779919.py:17: DtypeWarning: Columns (7) have mixed types. Specify dtype option on import or set low_memory=False.\n",
      "  df = pd.read_csv(os.path.join(dataset_folder, file))\n",
      " 44%|███████████████████                        | 40/90 [02:13<02:43,  3.27s/it]/var/folders/07/8lwf77114s1_ksvsyvnly2qc0000gn/T/ipykernel_2575/2724779919.py:17: DtypeWarning: Columns (7,15) have mixed types. Specify dtype option on import or set low_memory=False.\n",
      "  df = pd.read_csv(os.path.join(dataset_folder, file))\n",
      " 49%|█████████████████████                      | 44/90 [02:26<02:25,  3.17s/it]/var/folders/07/8lwf77114s1_ksvsyvnly2qc0000gn/T/ipykernel_2575/2724779919.py:17: DtypeWarning: Columns (7) have mixed types. Specify dtype option on import or set low_memory=False.\n",
      "  df = pd.read_csv(os.path.join(dataset_folder, file))\n",
      " 51%|█████████████████████▉                     | 46/90 [02:32<02:22,  3.23s/it]/var/folders/07/8lwf77114s1_ksvsyvnly2qc0000gn/T/ipykernel_2575/2724779919.py:17: DtypeWarning: Columns (7) have mixed types. Specify dtype option on import or set low_memory=False.\n",
      "  df = pd.read_csv(os.path.join(dataset_folder, file))\n",
      " 57%|████████████████████████▎                  | 51/90 [02:48<02:07,  3.26s/it]/var/folders/07/8lwf77114s1_ksvsyvnly2qc0000gn/T/ipykernel_2575/2724779919.py:17: DtypeWarning: Columns (7) have mixed types. Specify dtype option on import or set low_memory=False.\n",
      "  df = pd.read_csv(os.path.join(dataset_folder, file))\n",
      " 58%|████████████████████████▊                  | 52/90 [02:52<02:05,  3.29s/it]/var/folders/07/8lwf77114s1_ksvsyvnly2qc0000gn/T/ipykernel_2575/2724779919.py:17: DtypeWarning: Columns (7) have mixed types. Specify dtype option on import or set low_memory=False.\n",
      "  df = pd.read_csv(os.path.join(dataset_folder, file))\n",
      " 60%|█████████████████████████▊                 | 54/90 [02:58<01:55,  3.22s/it]/var/folders/07/8lwf77114s1_ksvsyvnly2qc0000gn/T/ipykernel_2575/2724779919.py:17: DtypeWarning: Columns (7) have mixed types. Specify dtype option on import or set low_memory=False.\n",
      "  df = pd.read_csv(os.path.join(dataset_folder, file))\n",
      " 63%|███████████████████████████▏               | 57/90 [03:07<01:43,  3.12s/it]/var/folders/07/8lwf77114s1_ksvsyvnly2qc0000gn/T/ipykernel_2575/2724779919.py:17: DtypeWarning: Columns (7) have mixed types. Specify dtype option on import or set low_memory=False.\n",
      "  df = pd.read_csv(os.path.join(dataset_folder, file))\n",
      " 83%|███████████████████████████████████▊       | 75/90 [04:03<00:45,  3.05s/it]/var/folders/07/8lwf77114s1_ksvsyvnly2qc0000gn/T/ipykernel_2575/2724779919.py:17: DtypeWarning: Columns (7) have mixed types. Specify dtype option on import or set low_memory=False.\n",
      "  df = pd.read_csv(os.path.join(dataset_folder, file))\n",
      " 87%|█████████████████████████████████████▎     | 78/90 [04:12<00:36,  3.07s/it]/var/folders/07/8lwf77114s1_ksvsyvnly2qc0000gn/T/ipykernel_2575/2724779919.py:17: DtypeWarning: Columns (7) have mixed types. Specify dtype option on import or set low_memory=False.\n",
      "  df = pd.read_csv(os.path.join(dataset_folder, file))\n",
      " 94%|████████████████████████████████████████▌  | 85/90 [04:33<00:15,  3.04s/it]/var/folders/07/8lwf77114s1_ksvsyvnly2qc0000gn/T/ipykernel_2575/2724779919.py:17: DtypeWarning: Columns (7) have mixed types. Specify dtype option on import or set low_memory=False.\n",
      "  df = pd.read_csv(os.path.join(dataset_folder, file))\n",
      " 98%|██████████████████████████████████████████ | 88/90 [04:43<00:06,  3.07s/it]/var/folders/07/8lwf77114s1_ksvsyvnly2qc0000gn/T/ipykernel_2575/2724779919.py:17: DtypeWarning: Columns (7) have mixed types. Specify dtype option on import or set low_memory=False.\n",
      "  df = pd.read_csv(os.path.join(dataset_folder, file))\n",
      " 99%|██████████████████████████████████████████▌| 89/90 [04:46<00:03,  3.10s/it]/var/folders/07/8lwf77114s1_ksvsyvnly2qc0000gn/T/ipykernel_2575/2724779919.py:17: DtypeWarning: Columns (7) have mixed types. Specify dtype option on import or set low_memory=False.\n",
      "  df = pd.read_csv(os.path.join(dataset_folder, file))\n",
      "100%|███████████████████████████████████████████| 90/90 [04:49<00:00,  3.22s/it]\n"
     ]
    },
    {
     "name": "stdout",
     "output_type": "stream",
     "text": [
      "0 tweets had no retweet count\n"
     ]
    },
    {
     "name": "stderr",
     "output_type": "stream",
     "text": [
      "/var/folders/07/8lwf77114s1_ksvsyvnly2qc0000gn/T/ipykernel_2575/2724779919.py:77: SettingWithCopyWarning: \n",
      "A value is trying to be set on a copy of a slice from a DataFrame\n",
      "\n",
      "See the caveats in the documentation: https://pandas.pydata.org/pandas-docs/stable/user_guide/indexing.html#returning-a-view-versus-a-copy\n",
      "  df[col][df[\"topic_type\"] == col] = True\n",
      "/var/folders/07/8lwf77114s1_ksvsyvnly2qc0000gn/T/ipykernel_2575/2724779919.py:77: SettingWithCopyWarning: \n",
      "A value is trying to be set on a copy of a slice from a DataFrame\n",
      "\n",
      "See the caveats in the documentation: https://pandas.pydata.org/pandas-docs/stable/user_guide/indexing.html#returning-a-view-versus-a-copy\n",
      "  df[col][df[\"topic_type\"] == col] = True\n",
      "/var/folders/07/8lwf77114s1_ksvsyvnly2qc0000gn/T/ipykernel_2575/2724779919.py:77: SettingWithCopyWarning: \n",
      "A value is trying to be set on a copy of a slice from a DataFrame\n",
      "\n",
      "See the caveats in the documentation: https://pandas.pydata.org/pandas-docs/stable/user_guide/indexing.html#returning-a-view-versus-a-copy\n",
      "  df[col][df[\"topic_type\"] == col] = True\n",
      "/var/folders/07/8lwf77114s1_ksvsyvnly2qc0000gn/T/ipykernel_2575/2724779919.py:77: SettingWithCopyWarning: \n",
      "A value is trying to be set on a copy of a slice from a DataFrame\n",
      "\n",
      "See the caveats in the documentation: https://pandas.pydata.org/pandas-docs/stable/user_guide/indexing.html#returning-a-view-versus-a-copy\n",
      "  df[col][df[\"topic_type\"] == col] = True\n",
      "/var/folders/07/8lwf77114s1_ksvsyvnly2qc0000gn/T/ipykernel_2575/2724779919.py:77: SettingWithCopyWarning: \n",
      "A value is trying to be set on a copy of a slice from a DataFrame\n",
      "\n",
      "See the caveats in the documentation: https://pandas.pydata.org/pandas-docs/stable/user_guide/indexing.html#returning-a-view-versus-a-copy\n",
      "  df[col][df[\"topic_type\"] == col] = True\n"
     ]
    }
   ],
   "source": [
    "create_regression_dataset(\"non_log_dataset\", typ=\"non_log\") # Extract columns for the negative binomial regression"
   ]
  },
  {
   "cell_type": "code",
   "execution_count": 8,
   "id": "2bb446fd",
   "metadata": {},
   "outputs": [
    {
     "name": "stderr",
     "output_type": "stream",
     "text": [
      "  3%|█▍                                          | 3/90 [00:09<04:28,  3.09s/it]/var/folders/07/8lwf77114s1_ksvsyvnly2qc0000gn/T/ipykernel_2575/2724779919.py:17: DtypeWarning: Columns (7) have mixed types. Specify dtype option on import or set low_memory=False.\n",
      "  df = pd.read_csv(os.path.join(dataset_folder, file))\n",
      "  6%|██▍                                         | 5/90 [00:15<04:22,  3.09s/it]/var/folders/07/8lwf77114s1_ksvsyvnly2qc0000gn/T/ipykernel_2575/2724779919.py:17: DtypeWarning: Columns (7) have mixed types. Specify dtype option on import or set low_memory=False.\n",
      "  df = pd.read_csv(os.path.join(dataset_folder, file))\n",
      " 13%|█████▋                                     | 12/90 [00:37<03:59,  3.07s/it]/var/folders/07/8lwf77114s1_ksvsyvnly2qc0000gn/T/ipykernel_2575/2724779919.py:17: DtypeWarning: Columns (7) have mixed types. Specify dtype option on import or set low_memory=False.\n",
      "  df = pd.read_csv(os.path.join(dataset_folder, file))\n",
      " 16%|██████▋                                    | 14/90 [00:43<03:51,  3.05s/it]/var/folders/07/8lwf77114s1_ksvsyvnly2qc0000gn/T/ipykernel_2575/2724779919.py:17: DtypeWarning: Columns (7) have mixed types. Specify dtype option on import or set low_memory=False.\n",
      "  df = pd.read_csv(os.path.join(dataset_folder, file))\n",
      " 44%|███████████████████                        | 40/90 [02:02<02:42,  3.24s/it]/var/folders/07/8lwf77114s1_ksvsyvnly2qc0000gn/T/ipykernel_2575/2724779919.py:17: DtypeWarning: Columns (7,15) have mixed types. Specify dtype option on import or set low_memory=False.\n",
      "  df = pd.read_csv(os.path.join(dataset_folder, file))\n",
      " 49%|█████████████████████                      | 44/90 [02:14<02:22,  3.10s/it]/var/folders/07/8lwf77114s1_ksvsyvnly2qc0000gn/T/ipykernel_2575/2724779919.py:17: DtypeWarning: Columns (7) have mixed types. Specify dtype option on import or set low_memory=False.\n",
      "  df = pd.read_csv(os.path.join(dataset_folder, file))\n",
      " 51%|█████████████████████▉                     | 46/90 [02:20<02:12,  3.02s/it]/var/folders/07/8lwf77114s1_ksvsyvnly2qc0000gn/T/ipykernel_2575/2724779919.py:17: DtypeWarning: Columns (7) have mixed types. Specify dtype option on import or set low_memory=False.\n",
      "  df = pd.read_csv(os.path.join(dataset_folder, file))\n",
      " 57%|████████████████████████▎                  | 51/90 [02:35<01:57,  3.01s/it]/var/folders/07/8lwf77114s1_ksvsyvnly2qc0000gn/T/ipykernel_2575/2724779919.py:17: DtypeWarning: Columns (7) have mixed types. Specify dtype option on import or set low_memory=False.\n",
      "  df = pd.read_csv(os.path.join(dataset_folder, file))\n",
      " 58%|████████████████████████▊                  | 52/90 [02:38<01:53,  3.00s/it]/var/folders/07/8lwf77114s1_ksvsyvnly2qc0000gn/T/ipykernel_2575/2724779919.py:17: DtypeWarning: Columns (7) have mixed types. Specify dtype option on import or set low_memory=False.\n",
      "  df = pd.read_csv(os.path.join(dataset_folder, file))\n",
      " 60%|█████████████████████████▊                 | 54/90 [02:44<01:47,  2.98s/it]/var/folders/07/8lwf77114s1_ksvsyvnly2qc0000gn/T/ipykernel_2575/2724779919.py:17: DtypeWarning: Columns (7) have mixed types. Specify dtype option on import or set low_memory=False.\n",
      "  df = pd.read_csv(os.path.join(dataset_folder, file))\n",
      " 63%|███████████████████████████▏               | 57/90 [02:53<01:38,  3.00s/it]/var/folders/07/8lwf77114s1_ksvsyvnly2qc0000gn/T/ipykernel_2575/2724779919.py:17: DtypeWarning: Columns (7) have mixed types. Specify dtype option on import or set low_memory=False.\n",
      "  df = pd.read_csv(os.path.join(dataset_folder, file))\n",
      " 83%|███████████████████████████████████▊       | 75/90 [03:46<00:43,  2.93s/it]/var/folders/07/8lwf77114s1_ksvsyvnly2qc0000gn/T/ipykernel_2575/2724779919.py:17: DtypeWarning: Columns (7) have mixed types. Specify dtype option on import or set low_memory=False.\n",
      "  df = pd.read_csv(os.path.join(dataset_folder, file))\n",
      " 87%|█████████████████████████████████████▎     | 78/90 [03:55<00:35,  2.95s/it]/var/folders/07/8lwf77114s1_ksvsyvnly2qc0000gn/T/ipykernel_2575/2724779919.py:17: DtypeWarning: Columns (7) have mixed types. Specify dtype option on import or set low_memory=False.\n",
      "  df = pd.read_csv(os.path.join(dataset_folder, file))\n",
      " 94%|████████████████████████████████████████▌  | 85/90 [04:16<00:14,  2.99s/it]/var/folders/07/8lwf77114s1_ksvsyvnly2qc0000gn/T/ipykernel_2575/2724779919.py:17: DtypeWarning: Columns (7) have mixed types. Specify dtype option on import or set low_memory=False.\n",
      "  df = pd.read_csv(os.path.join(dataset_folder, file))\n",
      " 98%|██████████████████████████████████████████ | 88/90 [04:25<00:05,  2.99s/it]/var/folders/07/8lwf77114s1_ksvsyvnly2qc0000gn/T/ipykernel_2575/2724779919.py:17: DtypeWarning: Columns (7) have mixed types. Specify dtype option on import or set low_memory=False.\n",
      "  df = pd.read_csv(os.path.join(dataset_folder, file))\n",
      " 99%|██████████████████████████████████████████▌| 89/90 [04:28<00:02,  2.98s/it]/var/folders/07/8lwf77114s1_ksvsyvnly2qc0000gn/T/ipykernel_2575/2724779919.py:17: DtypeWarning: Columns (7) have mixed types. Specify dtype option on import or set low_memory=False.\n",
      "  df = pd.read_csv(os.path.join(dataset_folder, file))\n",
      "100%|███████████████████████████████████████████| 90/90 [04:31<00:00,  3.01s/it]\n"
     ]
    },
    {
     "name": "stdout",
     "output_type": "stream",
     "text": [
      "0 tweets had no retweet count\n"
     ]
    },
    {
     "name": "stderr",
     "output_type": "stream",
     "text": [
      "/var/folders/07/8lwf77114s1_ksvsyvnly2qc0000gn/T/ipykernel_2575/2724779919.py:71: SettingWithCopyWarning: \n",
      "A value is trying to be set on a copy of a slice from a DataFrame\n",
      "\n",
      "See the caveats in the documentation: https://pandas.pydata.org/pandas-docs/stable/user_guide/indexing.html#returning-a-view-versus-a-copy\n",
      "  df[\"retweet_count_gte_one\"][df[\"retweet_count\"] > 0] = 1\n",
      "/var/folders/07/8lwf77114s1_ksvsyvnly2qc0000gn/T/ipykernel_2575/2724779919.py:77: SettingWithCopyWarning: \n",
      "A value is trying to be set on a copy of a slice from a DataFrame\n",
      "\n",
      "See the caveats in the documentation: https://pandas.pydata.org/pandas-docs/stable/user_guide/indexing.html#returning-a-view-versus-a-copy\n",
      "  df[col][df[\"topic_type\"] == col] = True\n",
      "/var/folders/07/8lwf77114s1_ksvsyvnly2qc0000gn/T/ipykernel_2575/2724779919.py:77: SettingWithCopyWarning: \n",
      "A value is trying to be set on a copy of a slice from a DataFrame\n",
      "\n",
      "See the caveats in the documentation: https://pandas.pydata.org/pandas-docs/stable/user_guide/indexing.html#returning-a-view-versus-a-copy\n",
      "  df[col][df[\"topic_type\"] == col] = True\n",
      "/var/folders/07/8lwf77114s1_ksvsyvnly2qc0000gn/T/ipykernel_2575/2724779919.py:77: SettingWithCopyWarning: \n",
      "A value is trying to be set on a copy of a slice from a DataFrame\n",
      "\n",
      "See the caveats in the documentation: https://pandas.pydata.org/pandas-docs/stable/user_guide/indexing.html#returning-a-view-versus-a-copy\n",
      "  df[col][df[\"topic_type\"] == col] = True\n",
      "/var/folders/07/8lwf77114s1_ksvsyvnly2qc0000gn/T/ipykernel_2575/2724779919.py:77: SettingWithCopyWarning: \n",
      "A value is trying to be set on a copy of a slice from a DataFrame\n",
      "\n",
      "See the caveats in the documentation: https://pandas.pydata.org/pandas-docs/stable/user_guide/indexing.html#returning-a-view-versus-a-copy\n",
      "  df[col][df[\"topic_type\"] == col] = True\n",
      "/var/folders/07/8lwf77114s1_ksvsyvnly2qc0000gn/T/ipykernel_2575/2724779919.py:77: SettingWithCopyWarning: \n",
      "A value is trying to be set on a copy of a slice from a DataFrame\n",
      "\n",
      "See the caveats in the documentation: https://pandas.pydata.org/pandas-docs/stable/user_guide/indexing.html#returning-a-view-versus-a-copy\n",
      "  df[col][df[\"topic_type\"] == col] = True\n"
     ]
    }
   ],
   "source": [
    "create_regression_dataset(\"logit_dataset\", typ=\"logit\")"
   ]
  },
  {
   "cell_type": "markdown",
   "id": "c3ebaf58",
   "metadata": {},
   "source": [
    "### Running regressions"
   ]
  },
  {
   "cell_type": "markdown",
   "id": "17117aca",
   "metadata": {},
   "source": [
    "#### Negative Binomial"
   ]
  },
  {
   "cell_type": "code",
   "execution_count": 18,
   "id": "306cd32e",
   "metadata": {},
   "outputs": [],
   "source": [
    "df = pd.read_csv(\"non_log_dataset.csv\") # loading in the non log dataset\n",
    "# (6234721, 21)\n",
    "# 19568181"
   ]
  },
  {
   "cell_type": "code",
   "execution_count": 20,
   "id": "239873c5",
   "metadata": {},
   "outputs": [
    {
     "data": {
      "text/plain": [
       "(19568181, 22)"
      ]
     },
     "execution_count": 20,
     "metadata": {},
     "output_type": "execute_result"
    }
   ],
   "source": [
    "df.shape"
   ]
  },
  {
   "cell_type": "code",
   "execution_count": 20,
   "id": "de6f0789",
   "metadata": {},
   "outputs": [],
   "source": [
    "# Formula for the regression\n",
    "# To add topic probability, use column `topic_probability`\n",
    "# To add emotion probability, use column `Emotion_prob`\n",
    "\n",
    "prominent_emotion_formula = '''retweets_per_follower ~ Anger +\n",
    "Disgust +\n",
    "Fear +\n",
    "Joy +\n",
    "Sadness +\n",
    "Surprise + \n",
    "Trust + \n",
    "Anticipation + \n",
    "topic_is_not_disinformation +\n",
    "topic_is_trolling +\n",
    "topic_is_out_of_scope +\n",
    "topic_is_debatable +\n",
    "topic_is_conspiracy_theory +\n",
    "media_bool + \n",
    "user_verified + \n",
    "account_age'''"
   ]
  },
  {
   "cell_type": "code",
   "execution_count": 22,
   "id": "b9985bef",
   "metadata": {},
   "outputs": [],
   "source": [
    "correlation = df[[\"retweets_per_follower\", \"media_bool\", \"user_verified\", \"account_age\"] + topic_bool_columns].corr()\n",
    "\n",
    "correlation.to_csv(\"correlation_non_log.csv\")"
   ]
  },
  {
   "cell_type": "code",
   "execution_count": 28,
   "id": "e6a4d9c0",
   "metadata": {},
   "outputs": [],
   "source": [
    "no_of_regression_samples = 300000 # No of rows to run the reg on. Use None to run on the entire dataset."
   ]
  },
  {
   "cell_type": "code",
   "execution_count": 26,
   "id": "3b8aa6ba",
   "metadata": {
    "collapsed": true
   },
   "outputs": [
    {
     "name": "stdout",
     "output_type": "stream",
     "text": [
      "                   Generalized Linear Model Regression Results                   \n",
      "=================================================================================\n",
      "Dep. Variable:     retweets_per_follower   No. Observations:               300000\n",
      "Model:                               GLM   Df Residuals:                   299984\n",
      "Model Family:           NegativeBinomial   Df Model:                           15\n",
      "Link Function:                       Log   Scale:                          1.0000\n",
      "Method:                             IRLS   Log-Likelihood:                -27507.\n",
      "Date:                   Wed, 16 Mar 2022   Deviance:                       29617.\n",
      "Time:                           19:49:12   Pearson chi2:                 2.10e+08\n",
      "No. Iterations:                      100   Pseudo R-squ. (CS):            0.07067\n",
      "Covariance Type:               nonrobust                                         \n",
      "=======================================================================================================\n",
      "                                          coef    std err          z      P>|z|      [0.025      0.975]\n",
      "-------------------------------------------------------------------------------------------------------\n",
      "Intercept                            3.658e+06   2.08e+05     17.611      0.000    3.25e+06    4.06e+06\n",
      "topic_is_not_disinformation[T.True]  7.316e+05   4.15e+04     17.611      0.000     6.5e+05    8.13e+05\n",
      "topic_is_trolling[T.True]            7.316e+05   4.15e+04     17.611      0.000     6.5e+05    8.13e+05\n",
      "topic_is_out_of_scope[T.True]        7.316e+05   4.15e+04     17.611      0.000     6.5e+05    8.13e+05\n",
      "topic_is_debatable[T.True]           7.316e+05   4.15e+04     17.611      0.000     6.5e+05    8.13e+05\n",
      "topic_is_conspiracy_theory[T.True]   7.316e+05   4.15e+04     17.611      0.000     6.5e+05    8.13e+05\n",
      "media_bool[T.True]                      1.0051      0.036     27.939      0.000       0.935       1.076\n",
      "user_verified[T.True]                  -2.5706      0.134    -19.245      0.000      -2.832      -2.309\n",
      "Anger                               -4.389e+06   2.49e+05    -17.611      0.000   -4.88e+06    -3.9e+06\n",
      "Disgust                             -4.389e+06   2.49e+05    -17.611      0.000   -4.88e+06    -3.9e+06\n",
      "Fear                                -4.389e+06   2.49e+05    -17.611      0.000   -4.88e+06    -3.9e+06\n",
      "Joy                                 -4.389e+06   2.49e+05    -17.611      0.000   -4.88e+06    -3.9e+06\n",
      "Sadness                             -4.389e+06   2.49e+05    -17.611      0.000   -4.88e+06    -3.9e+06\n",
      "Surprise                            -4.389e+06   2.49e+05    -17.611      0.000   -4.88e+06    -3.9e+06\n",
      "Trust                               -4.389e+06   2.49e+05    -17.611      0.000   -4.88e+06    -3.9e+06\n",
      "Anticipation                        -4.389e+06   2.49e+05    -17.611      0.000   -4.88e+06    -3.9e+06\n",
      "account_age                            -0.4774      0.005    -87.801      0.000      -0.488      -0.467\n",
      "=======================================================================================================\n"
     ]
    }
   ],
   "source": [
    "# Run regression\n",
    "\n",
    "nbr = smf.glm(prominent_emotion_formula, data=df.iloc[:no_of_regression_samples, :], family=sm.families.NegativeBinomial()).fit()\n",
    "print(nbr.summary())"
   ]
  },
  {
   "cell_type": "code",
   "execution_count": 19,
   "id": "bc7a2027",
   "metadata": {},
   "outputs": [
    {
     "data": {
      "text/plain": [
       "(6234721, 22)"
      ]
     },
     "execution_count": 19,
     "metadata": {},
     "output_type": "execute_result"
    }
   ],
   "source": [
    "df[df[\"retweet_count\"] > 0].shape"
   ]
  },
  {
   "cell_type": "markdown",
   "id": "80318b88",
   "metadata": {},
   "source": [
    "#### Log Linear Regression"
   ]
  },
  {
   "cell_type": "code",
   "execution_count": 2,
   "id": "891508f8",
   "metadata": {},
   "outputs": [],
   "source": [
    "df = pd.read_csv(\"log_dataset.csv\")\n",
    "# (5626408, 21)"
   ]
  },
  {
   "cell_type": "code",
   "execution_count": 13,
   "id": "e30b6ade",
   "metadata": {},
   "outputs": [
    {
     "data": {
      "text/plain": [
       "(5626408, 21)"
      ]
     },
     "execution_count": 13,
     "metadata": {},
     "output_type": "execute_result"
    }
   ],
   "source": [
    "df.shape"
   ]
  },
  {
   "cell_type": "code",
   "execution_count": 10,
   "id": "a52cf78d",
   "metadata": {},
   "outputs": [
    {
     "data": {
      "text/plain": [
       "(6234721, 22)"
      ]
     },
     "execution_count": 10,
     "metadata": {},
     "output_type": "execute_result"
    }
   ],
   "source": [
    "df.shape"
   ]
  },
  {
   "cell_type": "code",
   "execution_count": 7,
   "id": "6fd83069",
   "metadata": {},
   "outputs": [],
   "source": [
    "# To add topic probability, use column `topic_log_probability`\n",
    "# To add emotion probability, use column `Emotion_prob_log`\n",
    "\n",
    "prominent_emotion_formula_log = '''log_retweets_per_follower ~ Anger_log +\n",
    "Disgust_log +\n",
    "Fear_log +\n",
    "Joy_log +\n",
    "Sadness_log +\n",
    "Surprise_log + \n",
    "Trust_log + \n",
    "Anticipation_log + \n",
    "topic_is_not_disinformation +\n",
    "topic_is_trolling +\n",
    "topic_is_out_of_scope +\n",
    "topic_is_debatable +\n",
    "topic_is_conspiracy_theory +\n",
    "media_bool + \n",
    "user_verified + \n",
    "account_age'''"
   ]
  },
  {
   "cell_type": "code",
   "execution_count": 8,
   "id": "3b727aa1",
   "metadata": {},
   "outputs": [],
   "source": [
    "correlation = df[[\"log_retweets_per_follower\", \"media_bool\", \"user_verified\", \"account_age\"] + topic_bool_columns].corr()\n",
    "\n",
    "correlation.to_csv(\"correlation_log.csv\", index=False)"
   ]
  },
  {
   "cell_type": "code",
   "execution_count": 9,
   "id": "85c80830",
   "metadata": {},
   "outputs": [],
   "source": [
    "no_of_regression_samples = None # No of rows to run the reg on. Use None to run on the entire dataset."
   ]
  },
  {
   "cell_type": "code",
   "execution_count": 11,
   "id": "a4246f8c",
   "metadata": {},
   "outputs": [
    {
     "name": "stdout",
     "output_type": "stream",
     "text": [
      "                                OLS Regression Results                               \n",
      "=====================================================================================\n",
      "Dep. Variable:     log_retweets_per_follower   R-squared:                       0.426\n",
      "Model:                                   OLS   Adj. R-squared:                  0.426\n",
      "Method:                        Least Squares   F-statistic:                 2.894e+05\n",
      "Date:                       Mon, 04 Apr 2022   Prob (F-statistic):               0.00\n",
      "Time:                               08:33:24   Log-Likelihood:            -7.7977e+06\n",
      "No. Observations:                    6234721   AIC:                         1.560e+07\n",
      "Df Residuals:                        6234704   BIC:                         1.560e+07\n",
      "Df Model:                                 16                                         \n",
      "Covariance Type:                   nonrobust                                         \n",
      "=======================================================================================================\n",
      "                                          coef    std err          t      P>|t|      [0.025      0.975]\n",
      "-------------------------------------------------------------------------------------------------------\n",
      "Intercept                           -1.024e+06   8.01e+06     -0.128      0.898   -1.67e+07    1.47e+07\n",
      "topic_is_not_disinformation[T.True]  1.024e+06   8.01e+06      0.128      0.898   -1.47e+07    1.67e+07\n",
      "topic_is_trolling[T.True]            1.024e+06   8.01e+06      0.128      0.898   -1.47e+07    1.67e+07\n",
      "topic_is_out_of_scope[T.True]        1.024e+06   8.01e+06      0.128      0.898   -1.47e+07    1.67e+07\n",
      "topic_is_debatable[T.True]           1.024e+06   8.01e+06      0.128      0.898   -1.47e+07    1.67e+07\n",
      "topic_is_conspiracy_theory[T.True]   1.024e+06   8.01e+06      0.128      0.898   -1.47e+07    1.67e+07\n",
      "media_bool[T.True]                     -0.0229      0.001    -15.842      0.000      -0.026      -0.020\n",
      "user_verified[T.True]                  -0.9867      0.001  -1185.552      0.000      -0.988      -0.985\n",
      "Anger_log                               0.0684      0.001    110.232      0.000       0.067       0.070\n",
      "Disgust_log                            -0.0132      0.000    -27.131      0.000      -0.014      -0.012\n",
      "Fear_log                               -0.0772      0.001   -108.231      0.000      -0.079      -0.076\n",
      "Joy_log                                 0.0073      0.001     12.687      0.000       0.006       0.008\n",
      "Sadness_log                             0.0180      0.001     29.991      0.000       0.017       0.019\n",
      "Surprise_log                           -0.0829      0.001   -140.820      0.000      -0.084      -0.082\n",
      "Trust_log                               0.0162      0.001     23.925      0.000       0.015       0.018\n",
      "Anticipation_log                        0.0284      0.000     59.436      0.000       0.027       0.029\n",
      "account_age                            -0.1185    9.4e-05  -1261.034      0.000      -0.119      -0.118\n",
      "==============================================================================\n",
      "Omnibus:                    32198.613   Durbin-Watson:                   1.999\n",
      "Prob(Omnibus):                  0.000   Jarque-Bera (JB):            36328.843\n",
      "Skew:                           0.132   Prob(JB):                         0.00\n",
      "Kurtosis:                       3.266   Cond. No.                     5.71e+11\n",
      "==============================================================================\n",
      "\n",
      "Notes:\n",
      "[1] Standard Errors assume that the covariance matrix of the errors is correctly specified.\n",
      "[2] The smallest eigenvalue is 1.86e-15. This might indicate that there are\n",
      "strong multicollinearity problems or that the design matrix is singular.\n"
     ]
    }
   ],
   "source": [
    "linreg = smf.ols(prominent_emotion_formula_log, data=df.iloc[:no_of_regression_samples, :]).fit()\n",
    "print(linreg.summary())"
   ]
  },
  {
   "cell_type": "markdown",
   "id": "6cf1950a",
   "metadata": {},
   "source": [
    "#### Logistic Regression"
   ]
  },
  {
   "cell_type": "code",
   "execution_count": 9,
   "id": "64cfc732",
   "metadata": {},
   "outputs": [],
   "source": [
    "df = pd.read_csv(\"logit_dataset.csv\")"
   ]
  },
  {
   "cell_type": "code",
   "execution_count": 10,
   "id": "20076030",
   "metadata": {},
   "outputs": [
    {
     "data": {
      "text/plain": [
       "(20014503, 20)"
      ]
     },
     "execution_count": 10,
     "metadata": {},
     "output_type": "execute_result"
    }
   ],
   "source": [
    "df.shape"
   ]
  },
  {
   "cell_type": "code",
   "execution_count": 42,
   "id": "1866f01e",
   "metadata": {},
   "outputs": [],
   "source": [
    "no_of_regression_samples = 5000000 # No of rows to run the reg on. Use None to run on the entire dataset."
   ]
  },
  {
   "cell_type": "code",
   "execution_count": 43,
   "id": "75497528",
   "metadata": {},
   "outputs": [
    {
     "name": "stdout",
     "output_type": "stream",
     "text": [
      "Optimization terminated successfully.\n",
      "         Current function value: 0.587906\n",
      "         Iterations 5\n",
      "                           Logit Regression Results                           \n",
      "==============================================================================\n",
      "Dep. Variable:     has_been_retweeted   No. Observations:              5000000\n",
      "Model:                          Logit   Df Residuals:                  4999987\n",
      "Method:                           MLE   Df Model:                           12\n",
      "Date:                Tue, 29 Mar 2022   Pseudo R-squ.:                 0.08239\n",
      "Time:                        22:51:52   Log-Likelihood:            -2.9395e+06\n",
      "converged:                       True   LL-Null:                   -3.2035e+06\n",
      "Covariance Type:            nonrobust   LLR p-value:                     0.000\n",
      "=======================================================================================================\n",
      "                                          coef    std err          z      P>|z|      [0.025      0.975]\n",
      "-------------------------------------------------------------------------------------------------------\n",
      "Intercept                              -1.1871      0.005   -246.787      0.000      -1.197      -1.178\n",
      "topic_is_not_disinformation[T.True]     0.0885      0.002     40.538      0.000       0.084       0.093\n",
      "media_bool[T.True]                      0.1458      0.004     34.025      0.000       0.137       0.154\n",
      "user_verified[T.True]                   1.8113      0.003    581.175      0.000       1.805       1.817\n",
      "Anger_log                               0.0692      0.002     37.953      0.000       0.066       0.073\n",
      "Disgust_log                             0.1193      0.001     80.702      0.000       0.116       0.122\n",
      "Fear_log                               -0.0916      0.002    -43.032      0.000      -0.096      -0.087\n",
      "Joy_log                                 0.2208      0.002    129.958      0.000       0.217       0.224\n",
      "Sadness_log                            -0.1842      0.002   -103.897      0.000      -0.188      -0.181\n",
      "Surprise_log                           -0.1242      0.002    -70.519      0.000      -0.128      -0.121\n",
      "Trust_log                               0.0614      0.002     30.213      0.000       0.057       0.065\n",
      "Anticipation_log                        0.0072      0.001      5.077      0.000       0.004       0.010\n",
      "account_age                             0.0360      0.000    137.717      0.000       0.036       0.037\n",
      "=======================================================================================================\n",
      "Optimization terminated successfully.\n",
      "         Current function value: 0.587979\n",
      "         Iterations 5\n",
      "                           Logit Regression Results                           \n",
      "==============================================================================\n",
      "Dep. Variable:     has_been_retweeted   No. Observations:              5000000\n",
      "Model:                          Logit   Df Residuals:                  4999987\n",
      "Method:                           MLE   Df Model:                           12\n",
      "Date:                Tue, 29 Mar 2022   Pseudo R-squ.:                 0.08228\n",
      "Time:                        22:52:04   Log-Likelihood:            -2.9399e+06\n",
      "converged:                       True   LL-Null:                   -3.2035e+06\n",
      "Covariance Type:            nonrobust   LLR p-value:                     0.000\n",
      "=============================================================================================\n",
      "                                coef    std err          z      P>|z|      [0.025      0.975]\n",
      "---------------------------------------------------------------------------------------------\n",
      "Intercept                    -1.1436      0.005   -241.073      0.000      -1.153      -1.134\n",
      "topic_is_trolling[T.True]    -0.1112      0.004    -29.953      0.000      -0.118      -0.104\n",
      "media_bool[T.True]            0.1475      0.004     34.454      0.000       0.139       0.156\n",
      "user_verified[T.True]         1.8162      0.003    583.486      0.000       1.810       1.822\n",
      "Anger_log                     0.0700      0.002     38.382      0.000       0.066       0.074\n",
      "Disgust_log                   0.1201      0.001     81.224      0.000       0.117       0.123\n",
      "Fear_log                     -0.0876      0.002    -41.204      0.000      -0.092      -0.083\n",
      "Joy_log                       0.2204      0.002    129.629      0.000       0.217       0.224\n",
      "Sadness_log                  -0.1842      0.002   -103.878      0.000      -0.188      -0.181\n",
      "Surprise_log                 -0.1215      0.002    -69.004      0.000      -0.125      -0.118\n",
      "Trust_log                     0.0591      0.002     29.115      0.000       0.055       0.063\n",
      "Anticipation_log              0.0053      0.001      3.686      0.000       0.002       0.008\n",
      "account_age                   0.0356      0.000    136.297      0.000       0.035       0.036\n",
      "=============================================================================================\n",
      "Optimization terminated successfully.\n",
      "         Current function value: 0.587914\n",
      "         Iterations 5\n",
      "                           Logit Regression Results                           \n",
      "==============================================================================\n",
      "Dep. Variable:     has_been_retweeted   No. Observations:              5000000\n",
      "Model:                          Logit   Df Residuals:                  4999987\n",
      "Method:                           MLE   Df Model:                           12\n",
      "Date:                Tue, 29 Mar 2022   Pseudo R-squ.:                 0.08238\n",
      "Time:                        22:52:16   Log-Likelihood:            -2.9396e+06\n",
      "converged:                       True   LL-Null:                   -3.2035e+06\n",
      "Covariance Type:            nonrobust   LLR p-value:                     0.000\n",
      "=================================================================================================\n",
      "                                    coef    std err          z      P>|z|      [0.025      0.975]\n",
      "-------------------------------------------------------------------------------------------------\n",
      "Intercept                        -1.1159      0.005   -231.279      0.000      -1.125      -1.106\n",
      "topic_is_out_of_scope[T.True]    -0.0797      0.002    -39.432      0.000      -0.084      -0.076\n",
      "media_bool[T.True]                0.1492      0.004     34.824      0.000       0.141       0.158\n",
      "user_verified[T.True]             1.8156      0.003    583.340      0.000       1.809       1.822\n",
      "Anger_log                         0.0689      0.002     37.808      0.000       0.065       0.073\n",
      "Disgust_log                       0.1179      0.001     79.736      0.000       0.115       0.121\n",
      "Fear_log                         -0.0927      0.002    -43.524      0.000      -0.097      -0.088\n",
      "Joy_log                           0.2227      0.002    131.128      0.000       0.219       0.226\n",
      "Sadness_log                      -0.1861      0.002   -104.981      0.000      -0.190      -0.183\n",
      "Surprise_log                     -0.1250      0.002    -70.946      0.000      -0.128      -0.122\n",
      "Trust_log                         0.0621      0.002     30.562      0.000       0.058       0.066\n",
      "Anticipation_log                  0.0104      0.001      7.284      0.000       0.008       0.013\n",
      "account_age                       0.0357      0.000    136.655      0.000       0.035       0.036\n",
      "=================================================================================================\n",
      "Optimization terminated successfully.\n",
      "         Current function value: 0.587731\n",
      "         Iterations 5\n",
      "                           Logit Regression Results                           \n",
      "==============================================================================\n",
      "Dep. Variable:     has_been_retweeted   No. Observations:              5000000\n",
      "Model:                          Logit   Df Residuals:                  4999987\n",
      "Method:                           MLE   Df Model:                           12\n",
      "Date:                Tue, 29 Mar 2022   Pseudo R-squ.:                 0.08267\n",
      "Time:                        22:52:28   Log-Likelihood:            -2.9387e+06\n",
      "converged:                       True   LL-Null:                   -3.2035e+06\n",
      "Covariance Type:            nonrobust   LLR p-value:                     0.000\n",
      "==============================================================================================\n",
      "                                 coef    std err          z      P>|z|      [0.025      0.975]\n",
      "----------------------------------------------------------------------------------------------\n",
      "Intercept                     -1.1678      0.005   -246.249      0.000      -1.177      -1.158\n",
      "topic_is_debatable[T.True]     0.3234      0.005     58.850      0.000       0.313       0.334\n",
      "media_bool[T.True]             0.1549      0.004     36.159      0.000       0.146       0.163\n",
      "user_verified[T.True]          1.8227      0.003    585.552      0.000       1.817       1.829\n",
      "Anger_log                      0.0699      0.002     38.348      0.000       0.066       0.074\n",
      "Disgust_log                    0.1171      0.001     79.183      0.000       0.114       0.120\n",
      "Fear_log                      -0.0912      0.002    -42.860      0.000      -0.095      -0.087\n",
      "Joy_log                        0.2203      0.002    129.663      0.000       0.217       0.224\n",
      "Sadness_log                   -0.1861      0.002   -104.965      0.000      -0.190      -0.183\n",
      "Surprise_log                  -0.1224      0.002    -69.515      0.000      -0.126      -0.119\n",
      "Trust_log                      0.0610      0.002     30.010      0.000       0.057       0.065\n",
      "Anticipation_log               0.0097      0.001      6.819      0.000       0.007       0.012\n",
      "account_age                    0.0352      0.000    134.866      0.000       0.035       0.036\n",
      "==============================================================================================\n"
     ]
    },
    {
     "name": "stdout",
     "output_type": "stream",
     "text": [
      "Optimization terminated successfully.\n",
      "         Current function value: 0.588064\n",
      "         Iterations 5\n",
      "                           Logit Regression Results                           \n",
      "==============================================================================\n",
      "Dep. Variable:     has_been_retweeted   No. Observations:              5000000\n",
      "Model:                          Logit   Df Residuals:                  4999987\n",
      "Method:                           MLE   Df Model:                           12\n",
      "Date:                Tue, 29 Mar 2022   Pseudo R-squ.:                 0.08215\n",
      "Time:                        22:52:39   Log-Likelihood:            -2.9403e+06\n",
      "converged:                       True   LL-Null:                   -3.2035e+06\n",
      "Covariance Type:            nonrobust   LLR p-value:                     0.000\n",
      "======================================================================================================\n",
      "                                         coef    std err          z      P>|z|      [0.025      0.975]\n",
      "------------------------------------------------------------------------------------------------------\n",
      "Intercept                             -1.1521      0.005   -243.318      0.000      -1.161      -1.143\n",
      "topic_is_conspiracy_theory[T.True]    -0.0477      0.007     -7.267      0.000      -0.061      -0.035\n",
      "media_bool[T.True]                     0.1495      0.004     34.916      0.000       0.141       0.158\n",
      "user_verified[T.True]                  1.8191      0.003    584.699      0.000       1.813       1.825\n",
      "Anger_log                              0.0692      0.002     37.946      0.000       0.066       0.073\n",
      "Disgust_log                            0.1192      0.001     80.599      0.000       0.116       0.122\n",
      "Fear_log                              -0.0883      0.002    -41.533      0.000      -0.092      -0.084\n",
      "Joy_log                                0.2228      0.002    131.172      0.000       0.219       0.226\n",
      "Sadness_log                           -0.1860      0.002   -104.953      0.000      -0.189      -0.183\n",
      "Surprise_log                          -0.1227      0.002    -69.710      0.000      -0.126      -0.119\n",
      "Trust_log                              0.0601      0.002     29.605      0.000       0.056       0.064\n",
      "Anticipation_log                       0.0082      0.001      5.773      0.000       0.005       0.011\n",
      "account_age                            0.0354      0.000    135.601      0.000       0.035       0.036\n",
      "======================================================================================================\n"
     ]
    }
   ],
   "source": [
    "# Regression on 5 million tweets\n",
    "for typ in topic_bool_columns:\n",
    "    prominent_emotion_formula_log = f'''has_been_retweeted ~  \n",
    "    Anger_log +\n",
    "    Disgust_log +\n",
    "    Fear_log +\n",
    "    Joy_log +\n",
    "    Sadness_log +\n",
    "    Surprise_log + \n",
    "    Trust_log + \n",
    "    Anticipation_log + \n",
    "    {typ} +\n",
    "    media_bool + \n",
    "    user_verified + \n",
    "    account_age'''\n",
    "\n",
    "    log_reg = smf.logit(prominent_emotion_formula_log, data=df.iloc[:no_of_regression_samples, :]).fit()\n",
    "    print(log_reg.summary())"
   ]
  },
  {
   "cell_type": "code",
   "execution_count": 44,
   "id": "7b47180d",
   "metadata": {},
   "outputs": [
    {
     "name": "stdout",
     "output_type": "stream",
     "text": [
      "Optimization terminated successfully.\n",
      "         Current function value: 0.588119\n",
      "         Iterations 5\n",
      "                           Logit Regression Results                           \n",
      "==============================================================================\n",
      "Dep. Variable:     has_been_retweeted   No. Observations:             16609000\n",
      "Model:                          Logit   Df Residuals:                 16608987\n",
      "Method:                           MLE   Df Model:                           12\n",
      "Date:                Tue, 29 Mar 2022   Pseudo R-squ.:                 0.08247\n",
      "Time:                        22:53:26   Log-Likelihood:            -9.7681e+06\n",
      "converged:                       True   LL-Null:                   -1.0646e+07\n",
      "Covariance Type:            nonrobust   LLR p-value:                     0.000\n",
      "=======================================================================================================\n",
      "                                          coef    std err          z      P>|z|      [0.025      0.975]\n",
      "-------------------------------------------------------------------------------------------------------\n",
      "Intercept                              -1.1770      0.003   -446.034      0.000      -1.182      -1.172\n",
      "topic_is_not_disinformation[T.True]     0.0841      0.001     70.150      0.000       0.082       0.086\n",
      "media_bool[T.True]                      0.1482      0.002     63.054      0.000       0.144       0.153\n",
      "user_verified[T.True]                   1.8208      0.002   1059.337      0.000       1.817       1.824\n",
      "Anger_log                               0.0679      0.001     67.859      0.000       0.066       0.070\n",
      "Disgust_log                             0.1202      0.001    148.228      0.000       0.119       0.122\n",
      "Fear_log                               -0.0879      0.001    -75.331      0.000      -0.090      -0.086\n",
      "Joy_log                                 0.2243      0.001    240.284      0.000       0.222       0.226\n",
      "Sadness_log                            -0.1850      0.001   -190.130      0.000      -0.187      -0.183\n",
      "Surprise_log                           -0.1220      0.001   -126.198      0.000      -0.124      -0.120\n",
      "Trust_log                               0.0631      0.001     56.561      0.000       0.061       0.065\n",
      "Anticipation_log                        0.0036      0.001      4.588      0.000       0.002       0.005\n",
      "account_age                             0.0354      0.000    246.401      0.000       0.035       0.036\n",
      "=======================================================================================================\n",
      "Optimization terminated successfully.\n",
      "         Current function value: 0.588168\n",
      "         Iterations 5\n",
      "                           Logit Regression Results                           \n",
      "==============================================================================\n",
      "Dep. Variable:     has_been_retweeted   No. Observations:             16609000\n",
      "Model:                          Logit   Df Residuals:                 16608987\n",
      "Method:                           MLE   Df Model:                           12\n",
      "Date:                Tue, 29 Mar 2022   Pseudo R-squ.:                 0.08240\n",
      "Time:                        22:54:05   Log-Likelihood:            -9.7689e+06\n",
      "converged:                       True   LL-Null:                   -1.0646e+07\n",
      "Covariance Type:            nonrobust   LLR p-value:                     0.000\n",
      "=============================================================================================\n",
      "                                coef    std err          z      P>|z|      [0.025      0.975]\n",
      "---------------------------------------------------------------------------------------------\n",
      "Intercept                    -1.1349      0.003   -436.039      0.000      -1.140      -1.130\n",
      "topic_is_trolling[T.True]    -0.1162      0.002    -57.107      0.000      -0.120      -0.112\n",
      "media_bool[T.True]            0.1496      0.002     63.674      0.000       0.145       0.154\n",
      "user_verified[T.True]         1.8253      0.002   1063.409      0.000       1.822       1.829\n",
      "Anger_log                     0.0688      0.001     68.704      0.000       0.067       0.071\n",
      "Disgust_log                   0.1211      0.001    149.284      0.000       0.120       0.123\n",
      "Fear_log                     -0.0842      0.001    -72.131      0.000      -0.086      -0.082\n",
      "Joy_log                       0.2236      0.001    239.454      0.000       0.222       0.225\n",
      "Sadness_log                  -0.1848      0.001   -189.937      0.000      -0.187      -0.183\n",
      "Surprise_log                 -0.1193      0.001   -123.454      0.000      -0.121      -0.117\n",
      "Trust_log                     0.0608      0.001     54.533      0.000       0.059       0.063\n",
      "Anticipation_log              0.0014      0.001      1.790      0.073      -0.000       0.003\n",
      "account_age                   0.0350      0.000    244.058      0.000       0.035       0.035\n",
      "=============================================================================================\n",
      "Optimization terminated successfully.\n",
      "         Current function value: 0.588135\n",
      "         Iterations 5\n",
      "                           Logit Regression Results                           \n",
      "==============================================================================\n",
      "Dep. Variable:     has_been_retweeted   No. Observations:             16609000\n",
      "Model:                          Logit   Df Residuals:                 16608987\n",
      "Method:                           MLE   Df Model:                           12\n",
      "Date:                Tue, 29 Mar 2022   Pseudo R-squ.:                 0.08245\n",
      "Time:                        22:54:42   Log-Likelihood:            -9.7683e+06\n",
      "converged:                       True   LL-Null:                   -1.0646e+07\n",
      "Covariance Type:            nonrobust   LLR p-value:                     0.000\n",
      "=================================================================================================\n",
      "                                    coef    std err          z      P>|z|      [0.025      0.975]\n",
      "-------------------------------------------------------------------------------------------------\n",
      "Intercept                        -1.1104      0.003   -419.465      0.000      -1.116      -1.105\n",
      "topic_is_out_of_scope[T.True]    -0.0734      0.001    -66.180      0.000      -0.076      -0.071\n",
      "media_bool[T.True]                0.1514      0.002     64.421      0.000       0.147       0.156\n",
      "user_verified[T.True]             1.8249      0.002   1063.202      0.000       1.822       1.828\n",
      "Anger_log                         0.0676      0.001     67.613      0.000       0.066       0.070\n",
      "Disgust_log                       0.1189      0.001    146.573      0.000       0.117       0.120\n",
      "Fear_log                         -0.0889      0.001    -76.066      0.000      -0.091      -0.087\n",
      "Joy_log                           0.2260      0.001    242.307      0.000       0.224       0.228\n",
      "Sadness_log                      -0.1867      0.001   -191.979      0.000      -0.189      -0.185\n",
      "Surprise_log                     -0.1227      0.001   -126.893      0.000      -0.125      -0.121\n",
      "Trust_log                         0.0637      0.001     57.130      0.000       0.062       0.066\n",
      "Anticipation_log                  0.0065      0.001      8.378      0.000       0.005       0.008\n",
      "account_age                       0.0351      0.000    244.527      0.000       0.035       0.035\n",
      "=================================================================================================\n",
      "Optimization terminated successfully.\n",
      "         Current function value: 0.587935\n",
      "         Iterations 5\n",
      "                           Logit Regression Results                           \n",
      "==============================================================================\n",
      "Dep. Variable:     has_been_retweeted   No. Observations:             16609000\n",
      "Model:                          Logit   Df Residuals:                 16608987\n",
      "Method:                           MLE   Df Model:                           12\n",
      "Date:                Tue, 29 Mar 2022   Pseudo R-squ.:                 0.08276\n",
      "Time:                        22:55:20   Log-Likelihood:            -9.7650e+06\n",
      "converged:                       True   LL-Null:                   -1.0646e+07\n",
      "Covariance Type:            nonrobust   LLR p-value:                     0.000\n",
      "==============================================================================================\n",
      "                                 coef    std err          z      P>|z|      [0.025      0.975]\n",
      "----------------------------------------------------------------------------------------------\n",
      "Intercept                     -1.1591      0.003   -445.541      0.000      -1.164      -1.154\n",
      "topic_is_debatable[T.True]     0.3206      0.003    106.224      0.000       0.315       0.327\n",
      "media_bool[T.True]             0.1569      0.002     66.744      0.000       0.152       0.161\n",
      "user_verified[T.True]          1.8318      0.002   1067.153      0.000       1.828       1.835\n",
      "Anger_log                      0.0687      0.001     68.625      0.000       0.067       0.071\n",
      "Disgust_log                    0.1181      0.001    145.493      0.000       0.116       0.120\n",
      "Fear_log                      -0.0876      0.001    -75.103      0.000      -0.090      -0.085\n",
      "Joy_log                        0.2236      0.001    239.633      0.000       0.222       0.225\n",
      "Sadness_log                   -0.1867      0.001   -191.947      0.000      -0.189      -0.185\n",
      "Surprise_log                  -0.1203      0.001   -124.488      0.000      -0.122      -0.118\n",
      "Trust_log                      0.0627      0.001     56.235      0.000       0.061       0.065\n",
      "Anticipation_log               0.0060      0.001      7.706      0.000       0.004       0.008\n",
      "account_age                    0.0346      0.000    241.400      0.000       0.034       0.035\n",
      "==============================================================================================\n"
     ]
    },
    {
     "name": "stdout",
     "output_type": "stream",
     "text": [
      "Optimization terminated successfully.\n",
      "         Current function value: 0.588261\n",
      "         Iterations 5\n",
      "                           Logit Regression Results                           \n",
      "==============================================================================\n",
      "Dep. Variable:     has_been_retweeted   No. Observations:             16609000\n",
      "Model:                          Logit   Df Residuals:                 16608987\n",
      "Method:                           MLE   Df Model:                           12\n",
      "Date:                Tue, 29 Mar 2022   Pseudo R-squ.:                 0.08225\n",
      "Time:                        22:55:57   Log-Likelihood:            -9.7704e+06\n",
      "converged:                       True   LL-Null:                   -1.0646e+07\n",
      "Covariance Type:            nonrobust   LLR p-value:                     0.000\n",
      "======================================================================================================\n",
      "                                         coef    std err          z      P>|z|      [0.025      0.975]\n",
      "------------------------------------------------------------------------------------------------------\n",
      "Intercept                             -1.1437      0.003   -440.266      0.000      -1.149      -1.139\n",
      "topic_is_conspiracy_theory[T.True]    -0.0521      0.004    -14.448      0.000      -0.059      -0.045\n",
      "media_bool[T.True]                     0.1516      0.002     64.537      0.000       0.147       0.156\n",
      "user_verified[T.True]                  1.8283      0.002   1065.632      0.000       1.825       1.832\n",
      "Anger_log                              0.0679      0.001     67.849      0.000       0.066       0.070\n",
      "Disgust_log                            0.1201      0.001    148.059      0.000       0.118       0.122\n",
      "Fear_log                              -0.0849      0.001    -72.760      0.000      -0.087      -0.083\n",
      "Joy_log                                0.2260      0.001    242.323      0.000       0.224       0.228\n",
      "Sadness_log                           -0.1866      0.001   -191.917      0.000      -0.189      -0.185\n",
      "Surprise_log                          -0.1206      0.001   -124.800      0.000      -0.122      -0.119\n",
      "Trust_log                              0.0618      0.001     55.469      0.000       0.060       0.064\n",
      "Anticipation_log                       0.0045      0.001      5.785      0.000       0.003       0.006\n",
      "account_age                            0.0348      0.000    242.759      0.000       0.035       0.035\n",
      "======================================================================================================\n"
     ]
    }
   ],
   "source": [
    "# Logistic regression on 16m tweets (excludes tweets with 0 rts or suspended tweets)\n",
    "for typ in topic_bool_columns:\n",
    "    prominent_emotion_formula_log = f'''has_been_retweeted ~  \n",
    "    Anger_log +\n",
    "    Disgust_log +\n",
    "    Fear_log +\n",
    "    Joy_log +\n",
    "    Sadness_log +\n",
    "    Surprise_log + \n",
    "    Trust_log + \n",
    "    Anticipation_log + \n",
    "    {typ} +\n",
    "    media_bool + \n",
    "    user_verified + \n",
    "    account_age'''\n",
    "\n",
    "    log_reg = smf.logit(prominent_emotion_formula_log, data=df).fit()\n",
    "    print(log_reg.summary())"
   ]
  },
  {
   "cell_type": "code",
   "execution_count": null,
   "id": "f30428c9",
   "metadata": {},
   "outputs": [],
   "source": []
  },
  {
   "cell_type": "code",
   "execution_count": null,
   "id": "bd58ddbb",
   "metadata": {},
   "outputs": [],
   "source": []
  },
  {
   "cell_type": "code",
   "execution_count": null,
   "id": "f72f0471",
   "metadata": {},
   "outputs": [],
   "source": []
  },
  {
   "cell_type": "code",
   "execution_count": 2,
   "id": "2db239b6",
   "metadata": {},
   "outputs": [],
   "source": [
    "import pandas as pd\n",
    "from tqdm import tqdm\n",
    "import os"
   ]
  },
  {
   "cell_type": "code",
   "execution_count": 5,
   "id": "d8da007d",
   "metadata": {},
   "outputs": [
    {
     "name": "stderr",
     "output_type": "stream",
     "text": [
      "  3%|█▍                                          | 3/90 [00:09<04:23,  3.03s/it]/var/folders/07/8lwf77114s1_ksvsyvnly2qc0000gn/T/ipykernel_638/671113049.py:4: DtypeWarning: Columns (7) have mixed types. Specify dtype option on import or set low_memory=False.\n",
      "  df = pd.read_csv(os.path.join(\"full_dataset\", file))\n",
      "  6%|██▍                                         | 5/90 [00:15<04:18,  3.04s/it]/var/folders/07/8lwf77114s1_ksvsyvnly2qc0000gn/T/ipykernel_638/671113049.py:4: DtypeWarning: Columns (7) have mixed types. Specify dtype option on import or set low_memory=False.\n",
      "  df = pd.read_csv(os.path.join(\"full_dataset\", file))\n",
      " 13%|█████▋                                     | 12/90 [00:36<03:57,  3.05s/it]/var/folders/07/8lwf77114s1_ksvsyvnly2qc0000gn/T/ipykernel_638/671113049.py:4: DtypeWarning: Columns (7) have mixed types. Specify dtype option on import or set low_memory=False.\n",
      "  df = pd.read_csv(os.path.join(\"full_dataset\", file))\n",
      " 16%|██████▋                                    | 14/90 [00:42<03:48,  3.00s/it]/var/folders/07/8lwf77114s1_ksvsyvnly2qc0000gn/T/ipykernel_638/671113049.py:4: DtypeWarning: Columns (7) have mixed types. Specify dtype option on import or set low_memory=False.\n",
      "  df = pd.read_csv(os.path.join(\"full_dataset\", file))\n",
      " 44%|███████████████████                        | 40/90 [02:02<02:33,  3.07s/it]/var/folders/07/8lwf77114s1_ksvsyvnly2qc0000gn/T/ipykernel_638/671113049.py:4: DtypeWarning: Columns (7,15) have mixed types. Specify dtype option on import or set low_memory=False.\n",
      "  df = pd.read_csv(os.path.join(\"full_dataset\", file))\n",
      " 49%|█████████████████████                      | 44/90 [02:14<02:21,  3.07s/it]/var/folders/07/8lwf77114s1_ksvsyvnly2qc0000gn/T/ipykernel_638/671113049.py:4: DtypeWarning: Columns (7) have mixed types. Specify dtype option on import or set low_memory=False.\n",
      "  df = pd.read_csv(os.path.join(\"full_dataset\", file))\n",
      " 51%|█████████████████████▉                     | 46/90 [02:20<02:13,  3.04s/it]/var/folders/07/8lwf77114s1_ksvsyvnly2qc0000gn/T/ipykernel_638/671113049.py:4: DtypeWarning: Columns (7) have mixed types. Specify dtype option on import or set low_memory=False.\n",
      "  df = pd.read_csv(os.path.join(\"full_dataset\", file))\n",
      " 57%|████████████████████████▎                  | 51/90 [02:35<01:59,  3.06s/it]/var/folders/07/8lwf77114s1_ksvsyvnly2qc0000gn/T/ipykernel_638/671113049.py:4: DtypeWarning: Columns (7) have mixed types. Specify dtype option on import or set low_memory=False.\n",
      "  df = pd.read_csv(os.path.join(\"full_dataset\", file))\n",
      " 58%|████████████████████████▊                  | 52/90 [02:39<01:56,  3.06s/it]/var/folders/07/8lwf77114s1_ksvsyvnly2qc0000gn/T/ipykernel_638/671113049.py:4: DtypeWarning: Columns (7) have mixed types. Specify dtype option on import or set low_memory=False.\n",
      "  df = pd.read_csv(os.path.join(\"full_dataset\", file))\n",
      " 60%|█████████████████████████▊                 | 54/90 [02:45<01:49,  3.03s/it]/var/folders/07/8lwf77114s1_ksvsyvnly2qc0000gn/T/ipykernel_638/671113049.py:4: DtypeWarning: Columns (7) have mixed types. Specify dtype option on import or set low_memory=False.\n",
      "  df = pd.read_csv(os.path.join(\"full_dataset\", file))\n",
      " 63%|███████████████████████████▏               | 57/90 [02:54<01:40,  3.03s/it]/var/folders/07/8lwf77114s1_ksvsyvnly2qc0000gn/T/ipykernel_638/671113049.py:4: DtypeWarning: Columns (7) have mixed types. Specify dtype option on import or set low_memory=False.\n",
      "  df = pd.read_csv(os.path.join(\"full_dataset\", file))\n",
      " 83%|███████████████████████████████████▊       | 75/90 [03:48<00:45,  3.04s/it]/var/folders/07/8lwf77114s1_ksvsyvnly2qc0000gn/T/ipykernel_638/671113049.py:4: DtypeWarning: Columns (7) have mixed types. Specify dtype option on import or set low_memory=False.\n",
      "  df = pd.read_csv(os.path.join(\"full_dataset\", file))\n",
      " 87%|█████████████████████████████████████▎     | 78/90 [03:57<00:36,  3.03s/it]/var/folders/07/8lwf77114s1_ksvsyvnly2qc0000gn/T/ipykernel_638/671113049.py:4: DtypeWarning: Columns (7) have mixed types. Specify dtype option on import or set low_memory=False.\n",
      "  df = pd.read_csv(os.path.join(\"full_dataset\", file))\n",
      " 94%|████████████████████████████████████████▌  | 85/90 [04:19<00:15,  3.19s/it]/var/folders/07/8lwf77114s1_ksvsyvnly2qc0000gn/T/ipykernel_638/671113049.py:4: DtypeWarning: Columns (7) have mixed types. Specify dtype option on import or set low_memory=False.\n",
      "  df = pd.read_csv(os.path.join(\"full_dataset\", file))\n",
      " 98%|██████████████████████████████████████████ | 88/90 [04:29<00:06,  3.11s/it]/var/folders/07/8lwf77114s1_ksvsyvnly2qc0000gn/T/ipykernel_638/671113049.py:4: DtypeWarning: Columns (7) have mixed types. Specify dtype option on import or set low_memory=False.\n",
      "  df = pd.read_csv(os.path.join(\"full_dataset\", file))\n",
      " 99%|██████████████████████████████████████████▌| 89/90 [04:32<00:03,  3.10s/it]/var/folders/07/8lwf77114s1_ksvsyvnly2qc0000gn/T/ipykernel_638/671113049.py:4: DtypeWarning: Columns (7) have mixed types. Specify dtype option on import or set low_memory=False.\n",
      "  df = pd.read_csv(os.path.join(\"full_dataset\", file))\n",
      "100%|███████████████████████████████████████████| 90/90 [04:35<00:00,  3.06s/it]\n"
     ]
    }
   ],
   "source": [
    "counts = []\n",
    "counts_ = []\n",
    "for file in tqdm(os.listdir(\"full_dataset\")):\n",
    "    df = pd.read_csv(os.path.join(\"full_dataset\", file))\n",
    "    df.dropna(subset=[\"topic_id\"], inplace=True)\n",
    "    counts_.append(df[\"retweet_count\"].isnull().sum())\n",
    "    counts.append(df[\"retweet_count_before_susp\"].notnull().sum())"
   ]
  },
  {
   "cell_type": "code",
   "execution_count": 6,
   "id": "6bdc012d",
   "metadata": {},
   "outputs": [
    {
     "data": {
      "text/plain": [
       "3405503"
      ]
     },
     "execution_count": 6,
     "metadata": {},
     "output_type": "execute_result"
    }
   ],
   "source": [
    "# 4255950\n",
    "sum(counts)"
   ]
  },
  {
   "cell_type": "code",
   "execution_count": 7,
   "id": "fdd8459c",
   "metadata": {},
   "outputs": [
    {
     "data": {
      "text/plain": [
       "3405503"
      ]
     },
     "execution_count": 7,
     "metadata": {},
     "output_type": "execute_result"
    }
   ],
   "source": [
    "sum(counts_)"
   ]
  },
  {
   "cell_type": "code",
   "execution_count": null,
   "id": "b31683f8",
   "metadata": {},
   "outputs": [],
   "source": []
  }
 ],
 "metadata": {
  "kernelspec": {
   "display_name": "Python 3 (ipykernel)",
   "language": "python",
   "name": "python3"
  },
  "language_info": {
   "codemirror_mode": {
    "name": "ipython",
    "version": 3
   },
   "file_extension": ".py",
   "mimetype": "text/x-python",
   "name": "python",
   "nbconvert_exporter": "python",
   "pygments_lexer": "ipython3",
   "version": "3.9.11"
  }
 },
 "nbformat": 4,
 "nbformat_minor": 5
}
