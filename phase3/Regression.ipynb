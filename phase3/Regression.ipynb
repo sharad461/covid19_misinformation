{
 "cells": [
  {
   "cell_type": "markdown",
   "id": "aa90c34f",
   "metadata": {},
   "source": [
    "### Installing packages"
   ]
  },
  {
   "cell_type": "code",
   "execution_count": null,
   "id": "4b5f6384",
   "metadata": {},
   "outputs": [],
   "source": [
    "!pip install statsmodels tqdm"
   ]
  },
  {
   "cell_type": "markdown",
   "id": "061af60d",
   "metadata": {},
   "source": [
    "### Importing packages"
   ]
  },
  {
   "cell_type": "code",
   "execution_count": 1,
   "id": "942aa91d",
   "metadata": {},
   "outputs": [],
   "source": [
    "import os, pickle\n",
    "import pandas as pd\n",
    "import statsmodels.formula.api as smf\n",
    "import statsmodels.api as sm\n",
    "from datetime import date\n",
    "from tqdm import tqdm"
   ]
  },
  {
   "cell_type": "markdown",
   "id": "097e0208",
   "metadata": {},
   "source": [
    "### Global variables"
   ]
  },
  {
   "cell_type": "code",
   "execution_count": 2,
   "id": "53b298fb",
   "metadata": {},
   "outputs": [],
   "source": [
    "dataset_folder = \"full_dataset\" # folder with the full dataset\n",
    "parts = [] # list to store contributions from each file, for merging into one df later"
   ]
  },
  {
   "cell_type": "code",
   "execution_count": 7,
   "id": "d0c9de1b",
   "metadata": {},
   "outputs": [],
   "source": [
    "log_dataset_cols = [\"log_retweets_per_follower\", \"topic_log_probability\", \"Anger_log\", \"Disgust_log\", \"Fear_log\", \"Joy_log\",\n",
    "                    \"Sadness_log\", \"Surprise_log\", \"Trust_log\", \"Anticipation_log\", \"user_verified\", \"retweet_count\", \"user_followers_count\"]\n",
    "\n",
    "non_log_dataset_cols = [\"retweets_per_follower\", \"topic_probability\", \"Anger\", \"Disgust\", \"Fear\", \"Joy\", \n",
    "                        \"Sadness\", \"Surprise\", \"Trust\", \"Anticipation\", \"user_verified\", \"retweet_count\", \"user_followers_count\"]\n",
    "\n",
    "common_cols = [\"user_created_at\", \"media\", \"topic_id\"]\n",
    "\n",
    "topic_bool_columns = [\"topic_is_not_disinformation\", \"topic_is_trolling\", \"topic_is_out_of_scope\", \"topic_is_debatable\", \n",
    "                 \"topic_is_conspiracy_theory\"]\n",
    "\n",
    "new_cols = topic_bool_columns + [\"media_bool\", \"account_age\"]\n",
    "# Columns that need to be processed in runtime and appended to the dataset"
   ]
  },
  {
   "cell_type": "code",
   "execution_count": 4,
   "id": "118b93d3",
   "metadata": {},
   "outputs": [],
   "source": [
    "def account_age(x):\n",
    "    y = x.date()\n",
    "    ref_date = date(2020, 12, 1)\n",
    "\n",
    "    return (ref_date-y).days / 365"
   ]
  },
  {
   "cell_type": "code",
   "execution_count": 27,
   "id": "2e9e70d0",
   "metadata": {},
   "outputs": [],
   "source": [
    "def create_regression_dataset(save_as, type=\"log\"):\n",
    "    parts = []\n",
    "    \n",
    "    if type == \"log\":\n",
    "        cols_list = log_dataset_cols\n",
    "        output_cols = cols_list + new_cols + [\"Emotion_prob_log\"]\n",
    "    elif type == \"non_log\":\n",
    "        cols_list = non_log_dataset_cols\n",
    "        output_cols = cols_list + new_cols + [\"Emotion_prob\"]\n",
    "    \n",
    "    for file in tqdm(os.listdir(dataset_folder)):\n",
    "        df = pd.read_csv(os.path.join(dataset_folder, file))\n",
    "        df.dropna(subset=['topic_id', \"log_retweets_per_follower\"], inplace=True)\n",
    "\n",
    "        part = df[common_cols + cols_list]\n",
    "\n",
    "        parts.append(part)\n",
    "\n",
    "    df = pd.concat(parts, ignore_index=True)\n",
    "\n",
    "    df[\"media_bool\"] = df[\"media\"].notnull()\n",
    "    df[\"account_age\"] = pd.to_datetime(df[\"user_created_at\"], format='%a %b %d %H:%M:%S %z %Y').apply(account_age)\n",
    "\n",
    "    for col in topic_bool_columns:\n",
    "        df[col] = False\n",
    "    \n",
    "    if type == \"log\":\n",
    "        df[\"Emotion_prob_log\"] = df[[\"Anger_log\", \"Disgust_log\", \"Fear_log\", \"Joy_log\", \"Sadness_log\", \"Surprise_log\", \"Trust_log\", \"Anticipation_log\"]].max(axis=1)\n",
    "    elif type == \"non_log\":\n",
    "        df[\"Emotion_prob\"] = df[[\"Anger\", \"Disgust\", \"Fear\", \"Joy\", \"Sadness\", \"Surprise\", \"Trust\", \"Anticipation\"]].max(axis=1)\n",
    "\n",
    "    topic_id_topic_cat_dict = pd.read_pickle(\"topic_id_topic_cat_dict\")\n",
    "\n",
    "    for col in topic_bool_columns:\n",
    "        df[\"topic_type\"] = df[\"topic_id\"].map(topic_id_topic_cat_dict)\n",
    "        df[col][df[\"topic_type\"] == col] = True\n",
    "\n",
    "    df[output_cols].to_csv(f\"{save_as}.csv\", index=False)"
   ]
  },
  {
   "cell_type": "markdown",
   "id": "bc535cb8",
   "metadata": {},
   "source": [
    "### Extract the columns necessary for regression"
   ]
  },
  {
   "cell_type": "code",
   "execution_count": 20,
   "id": "6330ee79",
   "metadata": {
    "collapsed": true
   },
   "outputs": [
    {
     "name": "stderr",
     "output_type": "stream",
     "text": [
      "  0%|                                                                                           | 0/90 [00:00<?, ?it/s]C:\\Users\\sharad.duwal\\AppData\\Local\\Temp\\ipykernel_8188\\955595324.py:12: DtypeWarning: Columns (7) have mixed types. Specify dtype option on import or set low_memory=False.\n",
      "  df = pd.read_csv(os.path.join(dataset_folder, file))\n",
      "  3%|██▊                                                                                | 3/90 [00:23<11:24,  7.86s/it]C:\\Users\\sharad.duwal\\AppData\\Local\\Temp\\ipykernel_8188\\955595324.py:12: DtypeWarning: Columns (7) have mixed types. Specify dtype option on import or set low_memory=False.\n",
      "  df = pd.read_csv(os.path.join(dataset_folder, file))\n",
      "  6%|████▌                                                                              | 5/90 [00:39<11:23,  8.04s/it]C:\\Users\\sharad.duwal\\AppData\\Local\\Temp\\ipykernel_8188\\955595324.py:12: DtypeWarning: Columns (7) have mixed types. Specify dtype option on import or set low_memory=False.\n",
      "  df = pd.read_csv(os.path.join(dataset_folder, file))\n",
      " 14%|███████████▊                                                                      | 13/90 [01:52<12:27,  9.71s/it]C:\\Users\\sharad.duwal\\AppData\\Local\\Temp\\ipykernel_8188\\955595324.py:12: DtypeWarning: Columns (7) have mixed types. Specify dtype option on import or set low_memory=False.\n",
      "  df = pd.read_csv(os.path.join(dataset_folder, file))\n",
      " 16%|████████████▊                                                                     | 14/90 [02:01<11:57,  9.44s/it]C:\\Users\\sharad.duwal\\AppData\\Local\\Temp\\ipykernel_8188\\955595324.py:12: DtypeWarning: Columns (7) have mixed types. Specify dtype option on import or set low_memory=False.\n",
      "  df = pd.read_csv(os.path.join(dataset_folder, file))\n",
      " 20%|████████████████▍                                                                 | 18/90 [02:36<10:42,  8.93s/it]C:\\Users\\sharad.duwal\\AppData\\Local\\Temp\\ipykernel_8188\\955595324.py:12: DtypeWarning: Columns (7) have mixed types. Specify dtype option on import or set low_memory=False.\n",
      "  df = pd.read_csv(os.path.join(dataset_folder, file))\n",
      " 22%|██████████████████▏                                                               | 20/90 [02:54<10:23,  8.91s/it]C:\\Users\\sharad.duwal\\AppData\\Local\\Temp\\ipykernel_8188\\955595324.py:12: DtypeWarning: Columns (7) have mixed types. Specify dtype option on import or set low_memory=False.\n",
      "  df = pd.read_csv(os.path.join(dataset_folder, file))\n",
      " 24%|████████████████████                                                              | 22/90 [03:12<10:12,  9.00s/it]C:\\Users\\sharad.duwal\\AppData\\Local\\Temp\\ipykernel_8188\\955595324.py:12: DtypeWarning: Columns (7) have mixed types. Specify dtype option on import or set low_memory=False.\n",
      "  df = pd.read_csv(os.path.join(dataset_folder, file))\n",
      " 33%|███████████████████████████▎                                                      | 30/90 [04:26<09:26,  9.44s/it]C:\\Users\\sharad.duwal\\AppData\\Local\\Temp\\ipykernel_8188\\955595324.py:12: DtypeWarning: Columns (7) have mixed types. Specify dtype option on import or set low_memory=False.\n",
      "  df = pd.read_csv(os.path.join(dataset_folder, file))\n",
      " 61%|██████████████████████████████████████████████████                                | 55/90 [08:18<05:22,  9.22s/it]C:\\Users\\sharad.duwal\\AppData\\Local\\Temp\\ipykernel_8188\\955595324.py:12: DtypeWarning: Columns (7) have mixed types. Specify dtype option on import or set low_memory=False.\n",
      "  df = pd.read_csv(os.path.join(dataset_folder, file))\n",
      " 73%|████████████████████████████████████████████████████████████▏                     | 66/90 [09:59<03:40,  9.19s/it]C:\\Users\\sharad.duwal\\AppData\\Local\\Temp\\ipykernel_8188\\955595324.py:12: DtypeWarning: Columns (7) have mixed types. Specify dtype option on import or set low_memory=False.\n",
      "  df = pd.read_csv(os.path.join(dataset_folder, file))\n",
      " 74%|█████████████████████████████████████████████████████████████                     | 67/90 [10:08<03:32,  9.22s/it]C:\\Users\\sharad.duwal\\AppData\\Local\\Temp\\ipykernel_8188\\955595324.py:12: DtypeWarning: Columns (7,15) have mixed types. Specify dtype option on import or set low_memory=False.\n",
      "  df = pd.read_csv(os.path.join(dataset_folder, file))\n",
      " 77%|██████████████████████████████████████████████████████████████▊                   | 69/90 [10:27<03:15,  9.30s/it]C:\\Users\\sharad.duwal\\AppData\\Local\\Temp\\ipykernel_8188\\955595324.py:12: DtypeWarning: Columns (7) have mixed types. Specify dtype option on import or set low_memory=False.\n",
      "  df = pd.read_csv(os.path.join(dataset_folder, file))\n",
      " 78%|███████████████████████████████████████████████████████████████▊                  | 70/90 [10:36<03:05,  9.27s/it]C:\\Users\\sharad.duwal\\AppData\\Local\\Temp\\ipykernel_8188\\955595324.py:12: DtypeWarning: Columns (7) have mixed types. Specify dtype option on import or set low_memory=False.\n",
      "  df = pd.read_csv(os.path.join(dataset_folder, file))\n",
      " 80%|█████████████████████████████████████████████████████████████████▌                | 72/90 [10:55<02:49,  9.44s/it]C:\\Users\\sharad.duwal\\AppData\\Local\\Temp\\ipykernel_8188\\955595324.py:12: DtypeWarning: Columns (7) have mixed types. Specify dtype option on import or set low_memory=False.\n",
      "  df = pd.read_csv(os.path.join(dataset_folder, file))\n",
      " 88%|███████████████████████████████████████████████████████████████████████▉          | 79/90 [12:05<01:48,  9.89s/it]C:\\Users\\sharad.duwal\\AppData\\Local\\Temp\\ipykernel_8188\\955595324.py:12: DtypeWarning: Columns (7) have mixed types. Specify dtype option on import or set low_memory=False.\n",
      "  df = pd.read_csv(os.path.join(dataset_folder, file))\n",
      "100%|██████████████████████████████████████████████████████████████████████████████████| 90/90 [13:46<00:00,  9.19s/it]\n",
      "C:\\Users\\sharad.duwal\\AppData\\Local\\Temp\\ipykernel_8188\\955595324.py:36: SettingWithCopyWarning: \n",
      "A value is trying to be set on a copy of a slice from a DataFrame\n",
      "\n",
      "See the caveats in the documentation: https://pandas.pydata.org/pandas-docs/stable/user_guide/indexing.html#returning-a-view-versus-a-copy\n",
      "  df[col][df[\"topic_type\"] == col] = True\n",
      "C:\\Users\\sharad.duwal\\AppData\\Local\\Temp\\ipykernel_8188\\955595324.py:36: SettingWithCopyWarning: \n",
      "A value is trying to be set on a copy of a slice from a DataFrame\n",
      "\n",
      "See the caveats in the documentation: https://pandas.pydata.org/pandas-docs/stable/user_guide/indexing.html#returning-a-view-versus-a-copy\n",
      "  df[col][df[\"topic_type\"] == col] = True\n",
      "C:\\Users\\sharad.duwal\\AppData\\Local\\Temp\\ipykernel_8188\\955595324.py:36: SettingWithCopyWarning: \n",
      "A value is trying to be set on a copy of a slice from a DataFrame\n",
      "\n",
      "See the caveats in the documentation: https://pandas.pydata.org/pandas-docs/stable/user_guide/indexing.html#returning-a-view-versus-a-copy\n",
      "  df[col][df[\"topic_type\"] == col] = True\n",
      "C:\\Users\\sharad.duwal\\AppData\\Local\\Temp\\ipykernel_8188\\955595324.py:36: SettingWithCopyWarning: \n",
      "A value is trying to be set on a copy of a slice from a DataFrame\n",
      "\n",
      "See the caveats in the documentation: https://pandas.pydata.org/pandas-docs/stable/user_guide/indexing.html#returning-a-view-versus-a-copy\n",
      "  df[col][df[\"topic_type\"] == col] = True\n",
      "C:\\Users\\sharad.duwal\\AppData\\Local\\Temp\\ipykernel_8188\\955595324.py:36: SettingWithCopyWarning: \n",
      "A value is trying to be set on a copy of a slice from a DataFrame\n",
      "\n",
      "See the caveats in the documentation: https://pandas.pydata.org/pandas-docs/stable/user_guide/indexing.html#returning-a-view-versus-a-copy\n",
      "  df[col][df[\"topic_type\"] == col] = True\n"
     ]
    }
   ],
   "source": [
    "create_regression_dataset(\"log_dataset\", type=\"log\") # Extract columns for the log linear regression"
   ]
  },
  {
   "cell_type": "code",
   "execution_count": 28,
   "id": "512387e6",
   "metadata": {
    "collapsed": true
   },
   "outputs": [
    {
     "name": "stderr",
     "output_type": "stream",
     "text": [
      "  0%|                                                                                           | 0/90 [00:00<?, ?it/s]C:\\Users\\sharad.duwal\\AppData\\Local\\Temp\\ipykernel_8188\\955595324.py:12: DtypeWarning: Columns (7) have mixed types. Specify dtype option on import or set low_memory=False.\n",
      "  df = pd.read_csv(os.path.join(dataset_folder, file))\n",
      "  3%|██▊                                                                                | 3/90 [00:24<11:38,  8.03s/it]C:\\Users\\sharad.duwal\\AppData\\Local\\Temp\\ipykernel_8188\\955595324.py:12: DtypeWarning: Columns (7) have mixed types. Specify dtype option on import or set low_memory=False.\n",
      "  df = pd.read_csv(os.path.join(dataset_folder, file))\n",
      "  6%|████▌                                                                              | 5/90 [00:40<11:22,  8.03s/it]C:\\Users\\sharad.duwal\\AppData\\Local\\Temp\\ipykernel_8188\\955595324.py:12: DtypeWarning: Columns (7) have mixed types. Specify dtype option on import or set low_memory=False.\n",
      "  df = pd.read_csv(os.path.join(dataset_folder, file))\n",
      " 14%|███████████▊                                                                      | 13/90 [01:44<10:15,  7.99s/it]C:\\Users\\sharad.duwal\\AppData\\Local\\Temp\\ipykernel_8188\\955595324.py:12: DtypeWarning: Columns (7) have mixed types. Specify dtype option on import or set low_memory=False.\n",
      "  df = pd.read_csv(os.path.join(dataset_folder, file))\n",
      " 16%|████████████▊                                                                     | 14/90 [01:52<10:07,  8.00s/it]C:\\Users\\sharad.duwal\\AppData\\Local\\Temp\\ipykernel_8188\\955595324.py:12: DtypeWarning: Columns (7) have mixed types. Specify dtype option on import or set low_memory=False.\n",
      "  df = pd.read_csv(os.path.join(dataset_folder, file))\n",
      " 20%|████████████████▍                                                                 | 18/90 [02:25<09:42,  8.10s/it]C:\\Users\\sharad.duwal\\AppData\\Local\\Temp\\ipykernel_8188\\955595324.py:12: DtypeWarning: Columns (7) have mixed types. Specify dtype option on import or set low_memory=False.\n",
      "  df = pd.read_csv(os.path.join(dataset_folder, file))\n",
      " 22%|██████████████████▏                                                               | 20/90 [02:41<09:29,  8.14s/it]C:\\Users\\sharad.duwal\\AppData\\Local\\Temp\\ipykernel_8188\\955595324.py:12: DtypeWarning: Columns (7) have mixed types. Specify dtype option on import or set low_memory=False.\n",
      "  df = pd.read_csv(os.path.join(dataset_folder, file))\n",
      " 24%|████████████████████                                                              | 22/90 [02:57<09:05,  8.02s/it]C:\\Users\\sharad.duwal\\AppData\\Local\\Temp\\ipykernel_8188\\955595324.py:12: DtypeWarning: Columns (7) have mixed types. Specify dtype option on import or set low_memory=False.\n",
      "  df = pd.read_csv(os.path.join(dataset_folder, file))\n",
      " 33%|███████████████████████████▎                                                      | 30/90 [04:02<08:11,  8.19s/it]C:\\Users\\sharad.duwal\\AppData\\Local\\Temp\\ipykernel_8188\\955595324.py:12: DtypeWarning: Columns (7) have mixed types. Specify dtype option on import or set low_memory=False.\n",
      "  df = pd.read_csv(os.path.join(dataset_folder, file))\n",
      " 61%|██████████████████████████████████████████████████                                | 55/90 [07:25<04:47,  8.21s/it]C:\\Users\\sharad.duwal\\AppData\\Local\\Temp\\ipykernel_8188\\955595324.py:12: DtypeWarning: Columns (7) have mixed types. Specify dtype option on import or set low_memory=False.\n",
      "  df = pd.read_csv(os.path.join(dataset_folder, file))\n",
      " 73%|████████████████████████████████████████████████████████████▏                     | 66/90 [08:54<03:15,  8.13s/it]C:\\Users\\sharad.duwal\\AppData\\Local\\Temp\\ipykernel_8188\\955595324.py:12: DtypeWarning: Columns (7) have mixed types. Specify dtype option on import or set low_memory=False.\n",
      "  df = pd.read_csv(os.path.join(dataset_folder, file))\n",
      " 74%|█████████████████████████████████████████████████████████████                     | 67/90 [09:02<03:06,  8.13s/it]C:\\Users\\sharad.duwal\\AppData\\Local\\Temp\\ipykernel_8188\\955595324.py:12: DtypeWarning: Columns (7,15) have mixed types. Specify dtype option on import or set low_memory=False.\n",
      "  df = pd.read_csv(os.path.join(dataset_folder, file))\n",
      " 77%|██████████████████████████████████████████████████████████████▊                   | 69/90 [09:18<02:51,  8.16s/it]C:\\Users\\sharad.duwal\\AppData\\Local\\Temp\\ipykernel_8188\\955595324.py:12: DtypeWarning: Columns (7) have mixed types. Specify dtype option on import or set low_memory=False.\n",
      "  df = pd.read_csv(os.path.join(dataset_folder, file))\n",
      " 78%|███████████████████████████████████████████████████████████████▊                  | 70/90 [09:27<02:45,  8.26s/it]C:\\Users\\sharad.duwal\\AppData\\Local\\Temp\\ipykernel_8188\\955595324.py:12: DtypeWarning: Columns (7) have mixed types. Specify dtype option on import or set low_memory=False.\n",
      "  df = pd.read_csv(os.path.join(dataset_folder, file))\n",
      " 80%|█████████████████████████████████████████████████████████████████▌                | 72/90 [09:44<02:31,  8.42s/it]C:\\Users\\sharad.duwal\\AppData\\Local\\Temp\\ipykernel_8188\\955595324.py:12: DtypeWarning: Columns (7) have mixed types. Specify dtype option on import or set low_memory=False.\n",
      "  df = pd.read_csv(os.path.join(dataset_folder, file))\n",
      " 88%|███████████████████████████████████████████████████████████████████████▉          | 79/90 [10:41<01:29,  8.10s/it]C:\\Users\\sharad.duwal\\AppData\\Local\\Temp\\ipykernel_8188\\955595324.py:12: DtypeWarning: Columns (7) have mixed types. Specify dtype option on import or set low_memory=False.\n",
      "  df = pd.read_csv(os.path.join(dataset_folder, file))\n",
      "100%|██████████████████████████████████████████████████████████████████████████████████| 90/90 [12:09<00:00,  8.11s/it]\n",
      "C:\\Users\\sharad.duwal\\AppData\\Local\\Temp\\ipykernel_8188\\955595324.py:36: SettingWithCopyWarning: \n",
      "A value is trying to be set on a copy of a slice from a DataFrame\n",
      "\n",
      "See the caveats in the documentation: https://pandas.pydata.org/pandas-docs/stable/user_guide/indexing.html#returning-a-view-versus-a-copy\n",
      "  df[col][df[\"topic_type\"] == col] = True\n",
      "C:\\Users\\sharad.duwal\\AppData\\Local\\Temp\\ipykernel_8188\\955595324.py:36: SettingWithCopyWarning: \n",
      "A value is trying to be set on a copy of a slice from a DataFrame\n",
      "\n",
      "See the caveats in the documentation: https://pandas.pydata.org/pandas-docs/stable/user_guide/indexing.html#returning-a-view-versus-a-copy\n",
      "  df[col][df[\"topic_type\"] == col] = True\n",
      "C:\\Users\\sharad.duwal\\AppData\\Local\\Temp\\ipykernel_8188\\955595324.py:36: SettingWithCopyWarning: \n",
      "A value is trying to be set on a copy of a slice from a DataFrame\n",
      "\n",
      "See the caveats in the documentation: https://pandas.pydata.org/pandas-docs/stable/user_guide/indexing.html#returning-a-view-versus-a-copy\n",
      "  df[col][df[\"topic_type\"] == col] = True\n",
      "C:\\Users\\sharad.duwal\\AppData\\Local\\Temp\\ipykernel_8188\\955595324.py:36: SettingWithCopyWarning: \n",
      "A value is trying to be set on a copy of a slice from a DataFrame\n",
      "\n",
      "See the caveats in the documentation: https://pandas.pydata.org/pandas-docs/stable/user_guide/indexing.html#returning-a-view-versus-a-copy\n",
      "  df[col][df[\"topic_type\"] == col] = True\n",
      "C:\\Users\\sharad.duwal\\AppData\\Local\\Temp\\ipykernel_8188\\955595324.py:36: SettingWithCopyWarning: \n",
      "A value is trying to be set on a copy of a slice from a DataFrame\n",
      "\n",
      "See the caveats in the documentation: https://pandas.pydata.org/pandas-docs/stable/user_guide/indexing.html#returning-a-view-versus-a-copy\n",
      "  df[col][df[\"topic_type\"] == col] = True\n"
     ]
    }
   ],
   "source": [
    "create_regression_dataset(\"non_log_dataset\", type=\"non_log\") # Extract columns for the negative binomial regression"
   ]
  },
  {
   "cell_type": "markdown",
   "id": "c3ebaf58",
   "metadata": {},
   "source": [
    "### Running regressions"
   ]
  },
  {
   "cell_type": "markdown",
   "id": "17117aca",
   "metadata": {},
   "source": [
    "#### Negative Binomial"
   ]
  },
  {
   "cell_type": "code",
   "execution_count": 29,
   "id": "306cd32e",
   "metadata": {},
   "outputs": [],
   "source": [
    "df = pd.read_csv(\"non_log_dataset.csv\") # loading in the non log dataset"
   ]
  },
  {
   "cell_type": "code",
   "execution_count": 20,
   "id": "de6f0789",
   "metadata": {},
   "outputs": [],
   "source": [
    "# Formula for the regression\n",
    "# To add topic probability, use column `topic_probability`\n",
    "# To add emotion probability, use column `Emotion_prob`\n",
    "\n",
    "prominent_emotion_formula = '''retweets_per_follower ~ Anger +\n",
    "Disgust +\n",
    "Fear +\n",
    "Joy +\n",
    "Sadness +\n",
    "Surprise + \n",
    "Trust + \n",
    "Anticipation + \n",
    "topic_is_not_disinformation +\n",
    "topic_is_trolling +\n",
    "topic_is_out_of_scope +\n",
    "topic_is_debatable +\n",
    "topic_is_conspiracy_theory +\n",
    "media_bool + \n",
    "user_verified + \n",
    "account_age'''"
   ]
  },
  {
   "cell_type": "code",
   "execution_count": 22,
   "id": "b9985bef",
   "metadata": {},
   "outputs": [],
   "source": [
    "correlation = df[[\"retweets_per_follower\", \"media_bool\", \"user_verified\", \"account_age\"] + topic_bool_columns].corr()\n",
    "\n",
    "correlation.to_csv(\"correlation_non_log.csv\")"
   ]
  },
  {
   "cell_type": "code",
   "execution_count": 28,
   "id": "e6a4d9c0",
   "metadata": {},
   "outputs": [],
   "source": [
    "no_of_regression_samples = 300000 # No of rows to run the reg on. Use None to run on the entire dataset."
   ]
  },
  {
   "cell_type": "code",
   "execution_count": 26,
   "id": "3b8aa6ba",
   "metadata": {
    "collapsed": true
   },
   "outputs": [
    {
     "name": "stdout",
     "output_type": "stream",
     "text": [
      "                   Generalized Linear Model Regression Results                   \n",
      "=================================================================================\n",
      "Dep. Variable:     retweets_per_follower   No. Observations:               300000\n",
      "Model:                               GLM   Df Residuals:                   299984\n",
      "Model Family:           NegativeBinomial   Df Model:                           15\n",
      "Link Function:                       Log   Scale:                          1.0000\n",
      "Method:                             IRLS   Log-Likelihood:                -27507.\n",
      "Date:                   Wed, 16 Mar 2022   Deviance:                       29617.\n",
      "Time:                           19:49:12   Pearson chi2:                 2.10e+08\n",
      "No. Iterations:                      100   Pseudo R-squ. (CS):            0.07067\n",
      "Covariance Type:               nonrobust                                         \n",
      "=======================================================================================================\n",
      "                                          coef    std err          z      P>|z|      [0.025      0.975]\n",
      "-------------------------------------------------------------------------------------------------------\n",
      "Intercept                            3.658e+06   2.08e+05     17.611      0.000    3.25e+06    4.06e+06\n",
      "topic_is_not_disinformation[T.True]  7.316e+05   4.15e+04     17.611      0.000     6.5e+05    8.13e+05\n",
      "topic_is_trolling[T.True]            7.316e+05   4.15e+04     17.611      0.000     6.5e+05    8.13e+05\n",
      "topic_is_out_of_scope[T.True]        7.316e+05   4.15e+04     17.611      0.000     6.5e+05    8.13e+05\n",
      "topic_is_debatable[T.True]           7.316e+05   4.15e+04     17.611      0.000     6.5e+05    8.13e+05\n",
      "topic_is_conspiracy_theory[T.True]   7.316e+05   4.15e+04     17.611      0.000     6.5e+05    8.13e+05\n",
      "media_bool[T.True]                      1.0051      0.036     27.939      0.000       0.935       1.076\n",
      "user_verified[T.True]                  -2.5706      0.134    -19.245      0.000      -2.832      -2.309\n",
      "Anger                               -4.389e+06   2.49e+05    -17.611      0.000   -4.88e+06    -3.9e+06\n",
      "Disgust                             -4.389e+06   2.49e+05    -17.611      0.000   -4.88e+06    -3.9e+06\n",
      "Fear                                -4.389e+06   2.49e+05    -17.611      0.000   -4.88e+06    -3.9e+06\n",
      "Joy                                 -4.389e+06   2.49e+05    -17.611      0.000   -4.88e+06    -3.9e+06\n",
      "Sadness                             -4.389e+06   2.49e+05    -17.611      0.000   -4.88e+06    -3.9e+06\n",
      "Surprise                            -4.389e+06   2.49e+05    -17.611      0.000   -4.88e+06    -3.9e+06\n",
      "Trust                               -4.389e+06   2.49e+05    -17.611      0.000   -4.88e+06    -3.9e+06\n",
      "Anticipation                        -4.389e+06   2.49e+05    -17.611      0.000   -4.88e+06    -3.9e+06\n",
      "account_age                            -0.4774      0.005    -87.801      0.000      -0.488      -0.467\n",
      "=======================================================================================================\n"
     ]
    }
   ],
   "source": [
    "# Run regression\n",
    "\n",
    "nbr = smf.glm(prominent_emotion_formula, data=df.iloc[:no_of_regression_samples, :], family=sm.families.NegativeBinomial()).fit()\n",
    "print(nbr.summary())"
   ]
  },
  {
   "cell_type": "markdown",
   "id": "80318b88",
   "metadata": {},
   "source": [
    "#### Log Linear Regression"
   ]
  },
  {
   "cell_type": "code",
   "execution_count": 31,
   "id": "891508f8",
   "metadata": {},
   "outputs": [],
   "source": [
    "df = pd.read_csv(\"log_dataset.csv\")"
   ]
  },
  {
   "cell_type": "code",
   "execution_count": 22,
   "id": "6fd83069",
   "metadata": {},
   "outputs": [],
   "source": [
    "# To add topic probability, use column `topic_log_probability`\n",
    "# To add emotion probability, use column `Emotion_prob_log`\n",
    "\n",
    "prominent_emotion_formula_log = '''log_retweets_per_follower ~ Anger_log +\n",
    "Disgust_log +\n",
    "Fear_log +\n",
    "Joy_log +\n",
    "Sadness_log +\n",
    "Surprise_log + \n",
    "Trust_log + \n",
    "Anticipation_log + \n",
    "topic_is_not_disinformation +\n",
    "topic_is_trolling +\n",
    "topic_is_out_of_scope +\n",
    "topic_is_debatable +\n",
    "topic_is_conspiracy_theory +\n",
    "media_bool + \n",
    "user_verified + \n",
    "account_age'''"
   ]
  },
  {
   "cell_type": "code",
   "execution_count": 23,
   "id": "3b727aa1",
   "metadata": {},
   "outputs": [],
   "source": [
    "correlation = df[[\"log_retweets_per_follower\", \"media_bool\", \"user_verified\", \"account_age\"] + topic_bool_columns].corr()\n",
    "\n",
    "correlation.to_csv(\"correlation_log.csv\", index=False)"
   ]
  },
  {
   "cell_type": "code",
   "execution_count": 37,
   "id": "85c80830",
   "metadata": {},
   "outputs": [],
   "source": [
    "no_of_regression_samples = None # No of rows to run the reg on. Use None to run on the entire dataset."
   ]
  },
  {
   "cell_type": "code",
   "execution_count": 38,
   "id": "a4246f8c",
   "metadata": {},
   "outputs": [
    {
     "name": "stdout",
     "output_type": "stream",
     "text": [
      "                                OLS Regression Results                               \n",
      "=====================================================================================\n",
      "Dep. Variable:     log_retweets_per_follower   R-squared:                       0.428\n",
      "Model:                                   OLS   Adj. R-squared:                  0.428\n",
      "Method:                        Least Squares   F-statistic:                 2.626e+05\n",
      "Date:                       Wed, 16 Mar 2022   Prob (F-statistic):               0.00\n",
      "Time:                               19:51:37   Log-Likelihood:            -6.9558e+06\n",
      "No. Observations:                    5626408   AIC:                         1.391e+07\n",
      "Df Residuals:                        5626391   BIC:                         1.391e+07\n",
      "Df Model:                                 16                                         \n",
      "Covariance Type:                   nonrobust                                         \n",
      "=======================================================================================================\n",
      "                                          coef    std err          t      P>|t|      [0.025      0.975]\n",
      "-------------------------------------------------------------------------------------------------------\n",
      "Intercept                            8.457e+07   8.66e+07      0.977      0.329   -8.51e+07    2.54e+08\n",
      "topic_is_not_disinformation[T.True] -8.457e+07   8.66e+07     -0.977      0.329   -2.54e+08    8.51e+07\n",
      "topic_is_trolling[T.True]           -8.457e+07   8.66e+07     -0.977      0.329   -2.54e+08    8.51e+07\n",
      "topic_is_out_of_scope[T.True]       -8.457e+07   8.66e+07     -0.977      0.329   -2.54e+08    8.51e+07\n",
      "topic_is_debatable[T.True]          -8.457e+07   8.66e+07     -0.977      0.329   -2.54e+08    8.51e+07\n",
      "topic_is_conspiracy_theory[T.True]  -8.457e+07   8.66e+07     -0.977      0.329   -2.54e+08    8.51e+07\n",
      "media_bool[T.True]                     -0.0268      0.002    -17.558      0.000      -0.030      -0.024\n",
      "user_verified[T.True]                  -0.9846      0.001  -1170.501      0.000      -0.986      -0.983\n",
      "Anger_log                               0.0662      0.001    102.358      0.000       0.065       0.067\n",
      "Disgust_log                            -0.0117      0.001    -23.235      0.000      -0.013      -0.011\n",
      "Fear_log                               -0.0740      0.001    -99.760      0.000      -0.075      -0.072\n",
      "Joy_log                                 0.0096      0.001     15.947      0.000       0.008       0.011\n",
      "Sadness_log                             0.0164      0.001     26.207      0.000       0.015       0.018\n",
      "Surprise_log                           -0.0889      0.001   -145.259      0.000      -0.090      -0.088\n",
      "Trust_log                               0.0150      0.001     21.301      0.000       0.014       0.016\n",
      "Anticipation_log                        0.0299      0.000     60.320      0.000       0.029       0.031\n",
      "account_age                            -0.1168   9.98e-05  -1169.884      0.000      -0.117      -0.117\n",
      "==============================================================================\n",
      "Omnibus:                    23081.293   Durbin-Watson:                   2.000\n",
      "Prob(Omnibus):                  0.000   Jarque-Bera (JB):            26415.876\n",
      "Skew:                           0.108   Prob(JB):                         0.00\n",
      "Kurtosis:                       3.257   Cond. No.                     6.04e+12\n",
      "==============================================================================\n",
      "\n",
      "Notes:\n",
      "[1] Standard Errors assume that the covariance matrix of the errors is correctly specified.\n",
      "[2] The smallest eigenvalue is 1.54e-17. This might indicate that there are\n",
      "strong multicollinearity problems or that the design matrix is singular.\n"
     ]
    }
   ],
   "source": [
    "linreg = smf.ols(prominent_emotion_formula_log, data=df.iloc[:no_of_regression_samples, :]).fit()\n",
    "print(linreg.summary())"
   ]
  },
  {
   "cell_type": "code",
   "execution_count": null,
   "id": "76a3f4ff",
   "metadata": {},
   "outputs": [],
   "source": []
  },
  {
   "cell_type": "code",
   "execution_count": null,
   "id": "64cfc732",
   "metadata": {},
   "outputs": [],
   "source": []
  }
 ],
 "metadata": {
  "kernelspec": {
   "display_name": "Python 3 (ipykernel)",
   "language": "python",
   "name": "python3"
  },
  "language_info": {
   "codemirror_mode": {
    "name": "ipython",
    "version": 3
   },
   "file_extension": ".py",
   "mimetype": "text/x-python",
   "name": "python",
   "nbconvert_exporter": "python",
   "pygments_lexer": "ipython3",
   "version": "3.10.2"
  }
 },
 "nbformat": 4,
 "nbformat_minor": 5
}
